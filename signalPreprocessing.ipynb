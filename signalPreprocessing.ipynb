{
  "nbformat": 4,
  "nbformat_minor": 0,
  "metadata": {
    "colab": {
      "provenance": [],
      "collapsed_sections": [
        "a2APm6N9zaED",
        "EfnPwji9aRVN",
        "6eZhGLGW0PpT",
        "WXVjkq9E5FO-"
      ],
      "mount_file_id": "1FJevxLO_8Ir2LsWgooW6I3VyaJZfuXth",
      "authorship_tag": "ABX9TyN+TBWkoxWbANeiWldL+5AF",
      "include_colab_link": true
    },
    "kernelspec": {
      "name": "python3",
      "display_name": "Python 3"
    },
    "language_info": {
      "name": "python"
    }
  },
  "cells": [
    {
      "cell_type": "markdown",
      "metadata": {
        "id": "view-in-github",
        "colab_type": "text"
      },
      "source": [
        "<a href=\"https://colab.research.google.com/github/Esselle7/Model-Identification-with-Sindy/blob/main/signalPreprocessing.ipynb\" target=\"_parent\"><img src=\"https://colab.research.google.com/assets/colab-badge.svg\" alt=\"Open In Colab\"/></a>"
      ]
    },
    {
      "cell_type": "markdown",
      "source": [
        "##Import e download delle librerie"
      ],
      "metadata": {
        "id": "a2APm6N9zaED"
      }
    },
    {
      "cell_type": "code",
      "execution_count": 1,
      "metadata": {
        "id": "YtPPsRYeaDBW"
      },
      "outputs": [],
      "source": [
        "import matplotlib.pyplot as plt\n",
        "import math\n",
        "from typing import List\n",
        "from mpl_toolkits.mplot3d import Axes3D\n",
        "from matplotlib.cm import rainbow\n",
        "import numpy as np\n",
        "from scipy.integrate import solve_ivp\n",
        "from scipy.io import loadmat\n",
        "from sklearn.metrics import mean_squared_error\n",
        "from scipy.signal import medfilt\n",
        "import csv\n",
        "from typing import Tuple"
      ]
    },
    {
      "cell_type": "code",
      "source": [
        "!apt-get install graphviz libgraphviz-dev"
      ],
      "metadata": {
        "colab": {
          "base_uri": "https://localhost:8080/"
        },
        "id": "CyM_61kuu055",
        "outputId": "76b0aab5-7007-4264-e031-4b802df78609"
      },
      "execution_count": 2,
      "outputs": [
        {
          "output_type": "stream",
          "name": "stdout",
          "text": [
            "Reading package lists... Done\n",
            "Building dependency tree... Done\n",
            "Reading state information... Done\n",
            "graphviz is already the newest version (2.42.2-6).\n",
            "libgraphviz-dev is already the newest version (2.42.2-6).\n",
            "0 upgraded, 0 newly installed, 0 to remove and 45 not upgraded.\n"
          ]
        }
      ]
    },
    {
      "cell_type": "code",
      "source": [
        "!pip install git+https://github.com/LesLivia/lsha.git"
      ],
      "metadata": {
        "colab": {
          "base_uri": "https://localhost:8080/"
        },
        "id": "kKQNzRKfuwqS",
        "outputId": "87f34792-cb56-4d4f-a910-61de7a67d2fe"
      },
      "execution_count": 3,
      "outputs": [
        {
          "output_type": "stream",
          "name": "stdout",
          "text": [
            "\u001b[33mWARNING: Ignoring invalid distribution -eras (/usr/local/lib/python3.10/dist-packages)\u001b[0m\u001b[33m\n",
            "\u001b[0mCollecting git+https://github.com/LesLivia/lsha.git\n",
            "  Cloning https://github.com/LesLivia/lsha.git to /tmp/pip-req-build-uwo9y9be\n",
            "  Running command git clone --filter=blob:none --quiet https://github.com/LesLivia/lsha.git /tmp/pip-req-build-uwo9y9be\n",
            "  Resolved https://github.com/LesLivia/lsha.git to commit 9ac04d9f25688ba0f2c4bef91d767aedd57e87ef\n",
            "  Running command git submodule update --init --recursive -q\n",
            "  Installing build dependencies ... \u001b[?25l\u001b[?25hdone\n",
            "  Getting requirements to build wheel ... \u001b[?25l\u001b[?25hdone\n",
            "  Preparing metadata (pyproject.toml) ... \u001b[?25l\u001b[?25hdone\n",
            "Requirement already satisfied: graphviz<0.21.0,>=0.20.1 in /usr/local/lib/python3.10/dist-packages (from lsha==0.1.1) (0.20.3)\n",
            "Requirement already satisfied: matplotlib<4.0.0,>=3.8.3 in /usr/local/lib/python3.10/dist-packages (from lsha==0.1.1) (3.8.4)\n",
            "Requirement already satisfied: neo4j<6.0.0,>=5.17.0 in /usr/local/lib/python3.10/dist-packages (from lsha==0.1.1) (5.19.0)\n",
            "Requirement already satisfied: pandas<3.0.0,>=2.2.1 in /usr/local/lib/python3.10/dist-packages (from lsha==0.1.1) (2.2.2)\n",
            "Requirement already satisfied: pygad<4.0.0,>=3.3.1 in /usr/local/lib/python3.10/dist-packages (from lsha==0.1.1) (3.3.1)\n",
            "Requirement already satisfied: pygraphviz<2.0,>=1.12 in /usr/local/lib/python3.10/dist-packages (from lsha==0.1.1) (1.12)\n",
            "Requirement already satisfied: scipy<2.0.0,>=1.12.0 in /usr/local/lib/python3.10/dist-packages (from lsha==0.1.1) (1.13.0)\n",
            "Requirement already satisfied: tqdm<5.0.0,>=4.66.2 in /usr/local/lib/python3.10/dist-packages (from lsha==0.1.1) (4.66.2)\n",
            "Requirement already satisfied: contourpy>=1.0.1 in /usr/local/lib/python3.10/dist-packages (from matplotlib<4.0.0,>=3.8.3->lsha==0.1.1) (1.2.1)\n",
            "Requirement already satisfied: cycler>=0.10 in /usr/local/lib/python3.10/dist-packages (from matplotlib<4.0.0,>=3.8.3->lsha==0.1.1) (0.12.1)\n",
            "Requirement already satisfied: fonttools>=4.22.0 in /usr/local/lib/python3.10/dist-packages (from matplotlib<4.0.0,>=3.8.3->lsha==0.1.1) (4.51.0)\n",
            "Requirement already satisfied: kiwisolver>=1.3.1 in /usr/local/lib/python3.10/dist-packages (from matplotlib<4.0.0,>=3.8.3->lsha==0.1.1) (1.4.5)\n",
            "Requirement already satisfied: numpy>=1.21 in /usr/local/lib/python3.10/dist-packages (from matplotlib<4.0.0,>=3.8.3->lsha==0.1.1) (1.25.2)\n",
            "Requirement already satisfied: packaging>=20.0 in /usr/local/lib/python3.10/dist-packages (from matplotlib<4.0.0,>=3.8.3->lsha==0.1.1) (24.0)\n",
            "Requirement already satisfied: pillow>=8 in /usr/local/lib/python3.10/dist-packages (from matplotlib<4.0.0,>=3.8.3->lsha==0.1.1) (9.4.0)\n",
            "Requirement already satisfied: pyparsing>=2.3.1 in /usr/local/lib/python3.10/dist-packages (from matplotlib<4.0.0,>=3.8.3->lsha==0.1.1) (3.1.2)\n",
            "Requirement already satisfied: python-dateutil>=2.7 in /usr/local/lib/python3.10/dist-packages (from matplotlib<4.0.0,>=3.8.3->lsha==0.1.1) (2.8.2)\n",
            "Requirement already satisfied: pytz in /usr/local/lib/python3.10/dist-packages (from neo4j<6.0.0,>=5.17.0->lsha==0.1.1) (2023.4)\n",
            "Requirement already satisfied: tzdata>=2022.7 in /usr/local/lib/python3.10/dist-packages (from pandas<3.0.0,>=2.2.1->lsha==0.1.1) (2024.1)\n",
            "Requirement already satisfied: cloudpickle in /usr/local/lib/python3.10/dist-packages (from pygad<4.0.0,>=3.3.1->lsha==0.1.1) (2.2.1)\n",
            "Requirement already satisfied: six>=1.5 in /usr/local/lib/python3.10/dist-packages (from python-dateutil>=2.7->matplotlib<4.0.0,>=3.8.3->lsha==0.1.1) (1.16.0)\n",
            "\u001b[33mWARNING: Ignoring invalid distribution -eras (/usr/local/lib/python3.10/dist-packages)\u001b[0m\u001b[33m\n",
            "\u001b[0m"
          ]
        }
      ]
    },
    {
      "cell_type": "code",
      "source": [
        "!pip install pykalman"
      ],
      "metadata": {
        "colab": {
          "base_uri": "https://localhost:8080/"
        },
        "id": "_H5WoPdmzd10",
        "outputId": "b9e89388-72cb-4cc9-9a41-c1ce251372e4"
      },
      "execution_count": 4,
      "outputs": [
        {
          "output_type": "stream",
          "name": "stdout",
          "text": [
            "\u001b[33mWARNING: Ignoring invalid distribution -eras (/usr/local/lib/python3.10/dist-packages)\u001b[0m\u001b[33m\n",
            "\u001b[0mRequirement already satisfied: pykalman in /usr/local/lib/python3.10/dist-packages (0.9.7)\n",
            "Requirement already satisfied: numpy in /usr/local/lib/python3.10/dist-packages (from pykalman) (1.25.2)\n",
            "Requirement already satisfied: scipy in /usr/local/lib/python3.10/dist-packages (from pykalman) (1.13.0)\n",
            "\u001b[33mWARNING: Ignoring invalid distribution -eras (/usr/local/lib/python3.10/dist-packages)\u001b[0m\u001b[33m\n",
            "\u001b[0m"
          ]
        }
      ]
    },
    {
      "cell_type": "code",
      "source": [
        "!pip install xgboost"
      ],
      "metadata": {
        "colab": {
          "base_uri": "https://localhost:8080/"
        },
        "id": "exB7iOlrzkVf",
        "outputId": "131c52a2-5375-4a59-efae-0939479eb602"
      },
      "execution_count": 5,
      "outputs": [
        {
          "output_type": "stream",
          "name": "stdout",
          "text": [
            "\u001b[33mWARNING: Ignoring invalid distribution -eras (/usr/local/lib/python3.10/dist-packages)\u001b[0m\u001b[33m\n",
            "\u001b[0mRequirement already satisfied: xgboost in /usr/local/lib/python3.10/dist-packages (2.0.3)\n",
            "Requirement already satisfied: numpy in /usr/local/lib/python3.10/dist-packages (from xgboost) (1.25.2)\n",
            "Requirement already satisfied: scipy in /usr/local/lib/python3.10/dist-packages (from xgboost) (1.13.0)\n",
            "\u001b[33mWARNING: Ignoring invalid distribution -eras (/usr/local/lib/python3.10/dist-packages)\u001b[0m\u001b[33m\n",
            "\u001b[0m"
          ]
        }
      ]
    },
    {
      "cell_type": "code",
      "source": [
        "!pip install tensorflow scikit-learn"
      ],
      "metadata": {
        "colab": {
          "base_uri": "https://localhost:8080/"
        },
        "id": "FQlmbucQzzuK",
        "outputId": "81102281-0001-4873-d35d-3e3a6d136d79"
      },
      "execution_count": 6,
      "outputs": [
        {
          "output_type": "stream",
          "name": "stdout",
          "text": [
            "\u001b[33mWARNING: Ignoring invalid distribution -eras (/usr/local/lib/python3.10/dist-packages)\u001b[0m\u001b[33m\n",
            "\u001b[0mRequirement already satisfied: tensorflow in /usr/local/lib/python3.10/dist-packages (2.15.0)\n",
            "Requirement already satisfied: scikit-learn in /usr/local/lib/python3.10/dist-packages (1.4.2)\n",
            "Requirement already satisfied: absl-py>=1.0.0 in /usr/local/lib/python3.10/dist-packages (from tensorflow) (1.4.0)\n",
            "Requirement already satisfied: astunparse>=1.6.0 in /usr/local/lib/python3.10/dist-packages (from tensorflow) (1.6.3)\n",
            "Requirement already satisfied: flatbuffers>=23.5.26 in /usr/local/lib/python3.10/dist-packages (from tensorflow) (24.3.25)\n",
            "Requirement already satisfied: gast!=0.5.0,!=0.5.1,!=0.5.2,>=0.2.1 in /usr/local/lib/python3.10/dist-packages (from tensorflow) (0.5.4)\n",
            "Requirement already satisfied: google-pasta>=0.1.1 in /usr/local/lib/python3.10/dist-packages (from tensorflow) (0.2.0)\n",
            "Requirement already satisfied: h5py>=2.9.0 in /usr/local/lib/python3.10/dist-packages (from tensorflow) (3.9.0)\n",
            "Requirement already satisfied: libclang>=13.0.0 in /usr/local/lib/python3.10/dist-packages (from tensorflow) (18.1.1)\n",
            "Requirement already satisfied: ml-dtypes~=0.2.0 in /usr/local/lib/python3.10/dist-packages (from tensorflow) (0.2.0)\n",
            "Requirement already satisfied: numpy<2.0.0,>=1.23.5 in /usr/local/lib/python3.10/dist-packages (from tensorflow) (1.25.2)\n",
            "Requirement already satisfied: opt-einsum>=2.3.2 in /usr/local/lib/python3.10/dist-packages (from tensorflow) (3.3.0)\n",
            "Requirement already satisfied: packaging in /usr/local/lib/python3.10/dist-packages (from tensorflow) (24.0)\n",
            "Requirement already satisfied: protobuf!=4.21.0,!=4.21.1,!=4.21.2,!=4.21.3,!=4.21.4,!=4.21.5,<5.0.0dev,>=3.20.3 in /usr/local/lib/python3.10/dist-packages (from tensorflow) (3.20.3)\n",
            "Requirement already satisfied: setuptools in /usr/local/lib/python3.10/dist-packages (from tensorflow) (67.7.2)\n",
            "Requirement already satisfied: six>=1.12.0 in /usr/local/lib/python3.10/dist-packages (from tensorflow) (1.16.0)\n",
            "Requirement already satisfied: termcolor>=1.1.0 in /usr/local/lib/python3.10/dist-packages (from tensorflow) (2.4.0)\n",
            "Requirement already satisfied: typing-extensions>=3.6.6 in /usr/local/lib/python3.10/dist-packages (from tensorflow) (4.11.0)\n",
            "Requirement already satisfied: wrapt<1.15,>=1.11.0 in /usr/local/lib/python3.10/dist-packages (from tensorflow) (1.14.1)\n",
            "Requirement already satisfied: tensorflow-io-gcs-filesystem>=0.23.1 in /usr/local/lib/python3.10/dist-packages (from tensorflow) (0.36.0)\n",
            "Requirement already satisfied: grpcio<2.0,>=1.24.3 in /usr/local/lib/python3.10/dist-packages (from tensorflow) (1.62.1)\n",
            "Requirement already satisfied: tensorboard<2.16,>=2.15 in /usr/local/lib/python3.10/dist-packages (from tensorflow) (2.15.2)\n",
            "Requirement already satisfied: tensorflow-estimator<2.16,>=2.15.0 in /usr/local/lib/python3.10/dist-packages (from tensorflow) (2.15.0)\n",
            "Collecting keras<2.16,>=2.15.0 (from tensorflow)\n",
            "  Downloading keras-2.15.0-py3-none-any.whl (1.7 MB)\n",
            "\u001b[2K     \u001b[90m━━━━━━━━━━━━━━━━━━━━━━━━━━━━━━━━━━━━━━━━\u001b[0m \u001b[32m1.7/1.7 MB\u001b[0m \u001b[31m7.7 MB/s\u001b[0m eta \u001b[36m0:00:00\u001b[0m\n",
            "\u001b[?25hRequirement already satisfied: scipy>=1.6.0 in /usr/local/lib/python3.10/dist-packages (from scikit-learn) (1.13.0)\n",
            "Requirement already satisfied: joblib>=1.2.0 in /usr/local/lib/python3.10/dist-packages (from scikit-learn) (1.4.0)\n",
            "Requirement already satisfied: threadpoolctl>=2.0.0 in /usr/local/lib/python3.10/dist-packages (from scikit-learn) (3.4.0)\n",
            "Requirement already satisfied: wheel<1.0,>=0.23.0 in /usr/local/lib/python3.10/dist-packages (from astunparse>=1.6.0->tensorflow) (0.43.0)\n",
            "Requirement already satisfied: google-auth<3,>=1.6.3 in /usr/local/lib/python3.10/dist-packages (from tensorboard<2.16,>=2.15->tensorflow) (2.27.0)\n",
            "Requirement already satisfied: google-auth-oauthlib<2,>=0.5 in /usr/local/lib/python3.10/dist-packages (from tensorboard<2.16,>=2.15->tensorflow) (1.2.0)\n",
            "Requirement already satisfied: markdown>=2.6.8 in /usr/local/lib/python3.10/dist-packages (from tensorboard<2.16,>=2.15->tensorflow) (3.6)\n",
            "Requirement already satisfied: requests<3,>=2.21.0 in /usr/local/lib/python3.10/dist-packages (from tensorboard<2.16,>=2.15->tensorflow) (2.31.0)\n",
            "Requirement already satisfied: tensorboard-data-server<0.8.0,>=0.7.0 in /usr/local/lib/python3.10/dist-packages (from tensorboard<2.16,>=2.15->tensorflow) (0.7.2)\n",
            "Requirement already satisfied: werkzeug>=1.0.1 in /usr/local/lib/python3.10/dist-packages (from tensorboard<2.16,>=2.15->tensorflow) (3.0.2)\n",
            "Requirement already satisfied: cachetools<6.0,>=2.0.0 in /usr/local/lib/python3.10/dist-packages (from google-auth<3,>=1.6.3->tensorboard<2.16,>=2.15->tensorflow) (5.3.3)\n",
            "Requirement already satisfied: pyasn1-modules>=0.2.1 in /usr/local/lib/python3.10/dist-packages (from google-auth<3,>=1.6.3->tensorboard<2.16,>=2.15->tensorflow) (0.4.0)\n",
            "Requirement already satisfied: rsa<5,>=3.1.4 in /usr/local/lib/python3.10/dist-packages (from google-auth<3,>=1.6.3->tensorboard<2.16,>=2.15->tensorflow) (4.9)\n",
            "Requirement already satisfied: requests-oauthlib>=0.7.0 in /usr/local/lib/python3.10/dist-packages (from google-auth-oauthlib<2,>=0.5->tensorboard<2.16,>=2.15->tensorflow) (1.3.1)\n",
            "Requirement already satisfied: charset-normalizer<4,>=2 in /usr/local/lib/python3.10/dist-packages (from requests<3,>=2.21.0->tensorboard<2.16,>=2.15->tensorflow) (3.3.2)\n",
            "Requirement already satisfied: idna<4,>=2.5 in /usr/local/lib/python3.10/dist-packages (from requests<3,>=2.21.0->tensorboard<2.16,>=2.15->tensorflow) (3.7)\n",
            "Requirement already satisfied: urllib3<3,>=1.21.1 in /usr/local/lib/python3.10/dist-packages (from requests<3,>=2.21.0->tensorboard<2.16,>=2.15->tensorflow) (2.0.7)\n",
            "Requirement already satisfied: certifi>=2017.4.17 in /usr/local/lib/python3.10/dist-packages (from requests<3,>=2.21.0->tensorboard<2.16,>=2.15->tensorflow) (2024.2.2)\n",
            "Requirement already satisfied: MarkupSafe>=2.1.1 in /usr/local/lib/python3.10/dist-packages (from werkzeug>=1.0.1->tensorboard<2.16,>=2.15->tensorflow) (2.1.5)\n",
            "Requirement already satisfied: pyasn1<0.7.0,>=0.4.6 in /usr/local/lib/python3.10/dist-packages (from pyasn1-modules>=0.2.1->google-auth<3,>=1.6.3->tensorboard<2.16,>=2.15->tensorflow) (0.6.0)\n",
            "Requirement already satisfied: oauthlib>=3.0.0 in /usr/local/lib/python3.10/dist-packages (from requests-oauthlib>=0.7.0->google-auth-oauthlib<2,>=0.5->tensorboard<2.16,>=2.15->tensorflow) (3.2.2)\n",
            "\u001b[33mWARNING: Ignoring invalid distribution -eras (/usr/local/lib/python3.10/dist-packages)\u001b[0m\u001b[33m\n",
            "\u001b[0mInstalling collected packages: keras\n",
            "Successfully installed keras-2.15.0\n"
          ]
        }
      ]
    },
    {
      "cell_type": "code",
      "source": [
        "!pip install scikeras"
      ],
      "metadata": {
        "colab": {
          "base_uri": "https://localhost:8080/"
        },
        "id": "VFOS9sXzz5fO",
        "outputId": "8713f50c-550e-4ae2-9ef4-ae4286b17ea5"
      },
      "execution_count": 7,
      "outputs": [
        {
          "output_type": "stream",
          "name": "stdout",
          "text": [
            "\u001b[33mWARNING: Ignoring invalid distribution -eras (/usr/local/lib/python3.10/dist-packages)\u001b[0m\u001b[33m\n",
            "\u001b[0mCollecting scikeras\n",
            "  Using cached scikeras-0.13.0-py3-none-any.whl (26 kB)\n",
            "Collecting keras>=3.2.0 (from scikeras)\n",
            "  Using cached keras-3.2.1-py3-none-any.whl (1.1 MB)\n",
            "Requirement already satisfied: scikit-learn>=1.4.2 in /usr/local/lib/python3.10/dist-packages (from scikeras) (1.4.2)\n",
            "Requirement already satisfied: absl-py in /usr/local/lib/python3.10/dist-packages (from keras>=3.2.0->scikeras) (1.4.0)\n",
            "Requirement already satisfied: numpy in /usr/local/lib/python3.10/dist-packages (from keras>=3.2.0->scikeras) (1.25.2)\n",
            "Requirement already satisfied: rich in /usr/local/lib/python3.10/dist-packages (from keras>=3.2.0->scikeras) (13.7.1)\n",
            "Requirement already satisfied: namex in /usr/local/lib/python3.10/dist-packages (from keras>=3.2.0->scikeras) (0.0.8)\n",
            "Requirement already satisfied: h5py in /usr/local/lib/python3.10/dist-packages (from keras>=3.2.0->scikeras) (3.9.0)\n",
            "Requirement already satisfied: optree in /usr/local/lib/python3.10/dist-packages (from keras>=3.2.0->scikeras) (0.11.0)\n",
            "Requirement already satisfied: ml-dtypes in /usr/local/lib/python3.10/dist-packages (from keras>=3.2.0->scikeras) (0.2.0)\n",
            "Requirement already satisfied: scipy>=1.6.0 in /usr/local/lib/python3.10/dist-packages (from scikit-learn>=1.4.2->scikeras) (1.13.0)\n",
            "Requirement already satisfied: joblib>=1.2.0 in /usr/local/lib/python3.10/dist-packages (from scikit-learn>=1.4.2->scikeras) (1.4.0)\n",
            "Requirement already satisfied: threadpoolctl>=2.0.0 in /usr/local/lib/python3.10/dist-packages (from scikit-learn>=1.4.2->scikeras) (3.4.0)\n",
            "Requirement already satisfied: typing-extensions>=4.0.0 in /usr/local/lib/python3.10/dist-packages (from optree->keras>=3.2.0->scikeras) (4.11.0)\n",
            "Requirement already satisfied: markdown-it-py>=2.2.0 in /usr/local/lib/python3.10/dist-packages (from rich->keras>=3.2.0->scikeras) (3.0.0)\n",
            "Requirement already satisfied: pygments<3.0.0,>=2.13.0 in /usr/local/lib/python3.10/dist-packages (from rich->keras>=3.2.0->scikeras) (2.16.1)\n",
            "Requirement already satisfied: mdurl~=0.1 in /usr/local/lib/python3.10/dist-packages (from markdown-it-py>=2.2.0->rich->keras>=3.2.0->scikeras) (0.1.2)\n",
            "\u001b[33mWARNING: Ignoring invalid distribution -eras (/usr/local/lib/python3.10/dist-packages)\u001b[0m\u001b[33m\n",
            "\u001b[0mInstalling collected packages: keras, scikeras\n",
            "  Attempting uninstall: keras\n",
            "    Found existing installation: keras 2.15.0\n",
            "    Uninstalling keras-2.15.0:\n",
            "      Successfully uninstalled keras-2.15.0\n",
            "\u001b[31mERROR: pip's dependency resolver does not currently take into account all the packages that are installed. This behaviour is the source of the following dependency conflicts.\n",
            "tensorflow 2.15.0 requires keras<2.16,>=2.15.0, but you have keras 3.2.1 which is incompatible.\u001b[0m\u001b[31m\n",
            "\u001b[0mSuccessfully installed keras-3.2.1 scikeras-0.13.0\n"
          ]
        }
      ]
    },
    {
      "cell_type": "code",
      "source": [
        "!pip install pysindy"
      ],
      "metadata": {
        "colab": {
          "base_uri": "https://localhost:8080/"
        },
        "id": "qAMD4M_SDjkX",
        "outputId": "f4073bda-a35b-4dce-fa16-6605e422051c"
      },
      "execution_count": 8,
      "outputs": [
        {
          "output_type": "stream",
          "name": "stdout",
          "text": [
            "\u001b[33mWARNING: Ignoring invalid distribution -eras (/usr/local/lib/python3.10/dist-packages)\u001b[0m\u001b[33m\n",
            "\u001b[0mCollecting pysindy\n",
            "  Using cached pysindy-1.7.5-py3-none-any.whl (121 kB)\n",
            "Requirement already satisfied: scikit-learn>=0.23 in /usr/local/lib/python3.10/dist-packages (from pysindy) (1.4.2)\n",
            "Requirement already satisfied: numpy in /usr/local/lib/python3.10/dist-packages (from pysindy) (1.25.2)\n",
            "Requirement already satisfied: scipy in /usr/local/lib/python3.10/dist-packages (from pysindy) (1.13.0)\n",
            "Collecting derivative (from pysindy)\n",
            "  Downloading derivative-0.6.0-py3-none-any.whl (14 kB)\n",
            "Requirement already satisfied: matplotlib in /usr/local/lib/python3.10/dist-packages (from pysindy) (3.8.4)\n",
            "Requirement already satisfied: cmake in /usr/local/lib/python3.10/dist-packages (from pysindy) (3.27.9)\n",
            "Requirement already satisfied: scs!=2.1.4,>=2.1 in /usr/local/lib/python3.10/dist-packages (from pysindy) (3.2.4.post1)\n",
            "Requirement already satisfied: joblib>=1.2.0 in /usr/local/lib/python3.10/dist-packages (from scikit-learn>=0.23->pysindy) (1.4.0)\n",
            "Requirement already satisfied: threadpoolctl>=2.0.0 in /usr/local/lib/python3.10/dist-packages (from scikit-learn>=0.23->pysindy) (3.4.0)\n",
            "Requirement already satisfied: contourpy>=1.0.1 in /usr/local/lib/python3.10/dist-packages (from matplotlib->pysindy) (1.2.1)\n",
            "Requirement already satisfied: cycler>=0.10 in /usr/local/lib/python3.10/dist-packages (from matplotlib->pysindy) (0.12.1)\n",
            "Requirement already satisfied: fonttools>=4.22.0 in /usr/local/lib/python3.10/dist-packages (from matplotlib->pysindy) (4.51.0)\n",
            "Requirement already satisfied: kiwisolver>=1.3.1 in /usr/local/lib/python3.10/dist-packages (from matplotlib->pysindy) (1.4.5)\n",
            "Requirement already satisfied: packaging>=20.0 in /usr/local/lib/python3.10/dist-packages (from matplotlib->pysindy) (24.0)\n",
            "Requirement already satisfied: pillow>=8 in /usr/local/lib/python3.10/dist-packages (from matplotlib->pysindy) (9.4.0)\n",
            "Requirement already satisfied: pyparsing>=2.3.1 in /usr/local/lib/python3.10/dist-packages (from matplotlib->pysindy) (3.1.2)\n",
            "Requirement already satisfied: python-dateutil>=2.7 in /usr/local/lib/python3.10/dist-packages (from matplotlib->pysindy) (2.8.2)\n",
            "Requirement already satisfied: six>=1.5 in /usr/local/lib/python3.10/dist-packages (from python-dateutil>=2.7->matplotlib->pysindy) (1.16.0)\n",
            "\u001b[33mWARNING: Ignoring invalid distribution -eras (/usr/local/lib/python3.10/dist-packages)\u001b[0m\u001b[33m\n",
            "\u001b[0mInstalling collected packages: derivative, pysindy\n",
            "Successfully installed derivative-0.6.0 pysindy-1.7.5\n"
          ]
        }
      ]
    },
    {
      "cell_type": "markdown",
      "source": [
        "##Domande"
      ],
      "metadata": {
        "id": "fDQ8HCapd7UD"
      }
    },
    {
      "cell_type": "markdown",
      "source": [
        "##Import classi e funzioni"
      ],
      "metadata": {
        "id": "EfnPwji9aRVN"
      }
    },
    {
      "cell_type": "code",
      "source": [
        "# Importo la classe Timestamp da L*SHA con le relative costanti\n",
        "DAYS_PER_MONTH = [31, 28, 31, 30, 31, 30, 31, 31, 30, 31, 30, 31]\n",
        "CLOSED_R = 100.0\n",
        "OFF_DISTR = (100.0, 1.0, 200)\n",
        "ON_DISTR = (0.7, 0.01, 200)\n",
        "class Timestamp:\n",
        "    def __init__(self, y: int, m: int, d: int, h: int, min: int, sec: float):\n",
        "        self.year = y\n",
        "        self.month = m\n",
        "        self.day = d\n",
        "        self.hour = h\n",
        "        self.min = min\n",
        "        self.sec = sec\n",
        "\n",
        "    @staticmethod\n",
        "    def from_secs(secs: int):\n",
        "        new_ts = Timestamp(int(secs / (365 * 24 * 3600)), 0, 0, 0, 0, 0)\n",
        "        if secs > 365 * 24 * 3600:\n",
        "            secs -= new_ts.year * 365 * 24 * 3600\n",
        "        sum_d = 0\n",
        "        for i, month_d in enumerate(DAYS_PER_MONTH):\n",
        "            sum_d += month_d\n",
        "            if secs <= sum_d * 24 * 3600:\n",
        "                new_ts.month = i + 1\n",
        "                secs -= (sum_d - month_d) * 24 * 3600\n",
        "                break\n",
        "        new_ts.day = int(secs / (24 * 3600)) + 1\n",
        "        secs -= (new_ts.day - 1) * 24 * 3600\n",
        "        new_ts.hour = int(secs / 3600)\n",
        "        secs -= new_ts.hour * 3600\n",
        "        new_ts.min = int(secs / 60)\n",
        "        new_ts.sec = secs - new_ts.min * 60\n",
        "        return new_ts\n",
        "\n",
        "    def to_secs(self):\n",
        "        months = sum(DAYS_PER_MONTH[:self.month - 1]) if self.month > 0 else 0\n",
        "        days = self.year * 365 + months + self.day - 1 if self.day > 0 else 0\n",
        "        minutes = self.hour * 60 + self.min\n",
        "        seconds = minutes * 60 + self.sec\n",
        "        return days * 24 * 3600 + seconds\n",
        "\n",
        "    def __str__(self):\n",
        "        return '{}/{}/{} {}:{}:{}'.format(self.day, self.month, self.year, self.hour, self.min, self.sec)\n",
        "\n",
        "    def __hash__(self):\n",
        "        return hash(str(self))\n",
        "\n",
        "    def __eq__(self, other):\n",
        "        return self.to_secs() == other.to_secs()\n",
        "\n",
        "    def __ge__(self, other):\n",
        "        return self.to_secs() >= other.to_secs()\n",
        "\n",
        "    def __lt__(self, other):\n",
        "        return self.to_secs() < other.to_secs()\n",
        "\n",
        "    def __sub__(self, other):\n",
        "        return self.to_secs() - other.to_secs()\n",
        "class SignalPoint:\n",
        "    def __init__(self, t: Timestamp, val: float):\n",
        "        self.timestamp = t\n",
        "        self.value = val\n",
        "\n",
        "    def __str__(self):\n",
        "        return '{}: {}'.format(self.timestamp, self.value)\n",
        "\n",
        "    def __eq__(self, other):\n",
        "        return self.timestamp == other.timestamp and self.value == other.value\n",
        "\n",
        "\n",
        "class SampledSignal:\n",
        "    def __init__(self, pts: List[SignalPoint], label=None):\n",
        "        self.label = label\n",
        "        self.points = pts\n",
        "\n",
        "def parse_ts(string: str):\n",
        "    date = string.split('T')[0]\n",
        "    year = int(date[0:4])\n",
        "    month = int(date[5:7])\n",
        "    day = int(date[8:10])\n",
        "    time = string.split('T')[1].split('Z')[0]\n",
        "    hour = int(time[0:2])\n",
        "    minute = int(time[3:5])\n",
        "    second = int(time[6:8])\n",
        "    return Timestamp(year, month, day, hour, minute, second)"
      ],
      "metadata": {
        "id": "62RTvhPCaLYB"
      },
      "execution_count": 9,
      "outputs": []
    },
    {
      "cell_type": "code",
      "source": [
        "def parse_data(path: str):\n",
        "    # support method to parse traces sampled by ref query\n",
        "    power: SampledSignal = SampledSignal([], label='P')\n",
        "    speed: SampledSignal = SampledSignal([], label='w')\n",
        "    pressure: SampledSignal = SampledSignal([], label='pr')\n",
        "    toolID: SampledSignal = SampledSignal([], label='id')\n",
        "    speed_derivative: SampledSignal = SampledSignal([], label='wd')\n",
        "\n",
        "    with open(path) as csv_file:\n",
        "        reader = csv.DictReader(csv_file, delimiter=';')\n",
        "\n",
        "        for i, row in enumerate(reader):\n",
        "            # to skip the columns name row\n",
        "            if i == 0:\n",
        "                continue\n",
        "\n",
        "            # select the timestamp from column 0\n",
        "            ts = parse_ts(row['_time'])\n",
        "\n",
        "            # parse power value\n",
        "            power.points.append(SignalPoint(ts, float(row['Total_power'])))\n",
        "\n",
        "            # parse speed value: round to closest [100]\n",
        "            speed_v = round(float(row['actual_Speed_SP1']) / 100) * 100\n",
        "            speed.points.append(SignalPoint(ts, speed_v))\n",
        "\n",
        "            # parse pallet pressure value\n",
        "            pressure.points.append(SignalPoint(ts, float(row['Pressure'])))\n",
        "\n",
        "            # parse tool ID value\n",
        "            toolID.points.append(SignalPoint(ts, float(row['dictID'])))\n",
        "\n",
        "            # parse a signal which represents the derivative of the speed vector\n",
        "            if i > 0:\n",
        "                if round(speed.points[i-2].value) == round(speed.points[i-1].value):  # if constant\n",
        "                    speed_d = 0\n",
        "                elif round(speed.points[i-2].value) < round(speed.points[i-1].value):  # if going up\n",
        "                    speed_d = 1\n",
        "                else:  # if going down\n",
        "                    speed_d = -1\n",
        "                speed_derivative.points.append(SignalPoint(ts, float(speed_d)))\n",
        "\n",
        "        return [power, speed, pressure, toolID, speed_derivative]"
      ],
      "metadata": {
        "id": "1YoGZ2xkaVDX"
      },
      "execution_count": 10,
      "outputs": []
    },
    {
      "cell_type": "code",
      "source": [
        "SPEED_RANGE = 100\n",
        "MIN_SPEED = 100\n",
        "MAX_SPEED = 10000\n",
        "PR_RANGE = 500\n",
        "\n",
        "class Event:\n",
        "    def __init__(self, guard, chan, symb):\n",
        "        self.guard = guard\n",
        "        self.chan = chan\n",
        "        self.symbol = symb\n",
        "        self.label = guard + ',' + chan if len(guard) > 0 else chan\n",
        "\n",
        "    def __str__(self):\n",
        "        return self.label\n",
        "\n",
        "    def __eq__(self, other):\n",
        "        return self.guard == other.guard and self.chan == other.chan\n",
        "\n",
        "    def __hash__(self):\n",
        "        return hash(self.label)\n",
        "\n",
        "# define events as different velocities ranges and stop, load and unload\n",
        "events: List[Event] = []\n",
        "for i in range(MIN_SPEED, MAX_SPEED, SPEED_RANGE):\n",
        "    if i < MAX_SPEED - SPEED_RANGE:\n",
        "        new_guard = '{}<=w<{}'.format(i, i + SPEED_RANGE)\n",
        "    else:\n",
        "        new_guard = '{}<=w'.format(i)\n",
        "    events.append(Event(new_guard, 'start', 'm_{}'.format(len(events))))\n",
        "\n",
        "spindle_off = Event('', 'stop', 'i_0')\n",
        "\n",
        "events.append(spindle_off)\n",
        "events.append(Event('', 'load', 'l'))\n",
        "events.append(Event('', 'unload', 'u'))"
      ],
      "metadata": {
        "id": "l-XjRsawaVUQ"
      },
      "execution_count": 11,
      "outputs": []
    },
    {
      "cell_type": "code",
      "source": [
        "EMPTY_STRING = '\\u03B5'\n",
        "class TimedTrace:\n",
        "    def __init__(self, t: List[Timestamp], e: List[Event]):\n",
        "        self.t = t\n",
        "        self.e = e\n",
        "\n",
        "    def __eq__(self, other):\n",
        "        return all([ts == other.t[i] and self.e[i] == other.e[i] for i, ts in enumerate(self.t)])\n",
        "\n",
        "    def __len__(self):\n",
        "        return len(self.t)\n",
        "\n",
        "\n",
        "class Trace:\n",
        "    def __init__(self, events: List[Event] = None, tt: TimedTrace = None):\n",
        "        if tt is not None:\n",
        "            self.events = tt.e\n",
        "        else:\n",
        "            self.events = events\n",
        "\n",
        "    def __str__(self):\n",
        "        if len(self.events) == 0:\n",
        "            return EMPTY_STRING\n",
        "        else:\n",
        "            return ''.join([e.symbol for e in self.events])\n",
        "\n",
        "    def __eq__(self, other):\n",
        "        return str(self) == str(other)\n",
        "\n",
        "    def __len__(self):\n",
        "        return len(self.events)\n",
        "\n",
        "    def __getitem__(self, item):\n",
        "        return self.events[item]\n",
        "\n",
        "    def __add__(self, other):\n",
        "        return Trace(events=self.events + other.events)\n",
        "\n",
        "    def sub_prefix(self, prefix):\n",
        "        return Trace(events=self.events[len(prefix.events):])\n",
        "\n",
        "    def __hash__(self):\n",
        "        return hash(str(self))\n",
        "\n",
        "    def get_prefixes(self):\n",
        "        prefixes: List[Trace] = []\n",
        "        for i in range(len(self)):\n",
        "            if i == 0:\n",
        "                prefixes.append(Trace([self[0]]))\n",
        "            else:\n",
        "                prefixes.append(Trace(self[:i + 1]))\n",
        "        return prefixes\n",
        "\n",
        "    def startswith(self, word):\n",
        "        if len(word) > len(self):\n",
        "            return False\n",
        "\n",
        "        for i, e in enumerate(word):\n",
        "            if self.events[i].symbol != e.symbol:\n",
        "                return False\n",
        "        else:\n",
        "            return True\n",
        "\n",
        "def process_data(self, path):\n",
        "    new_signals: List[SampledSignal] = self.parse_f(path)\n",
        "    self.signals.append(new_signals)\n",
        "\n",
        "    driver_sig = [sig for sig in new_signals if sig.label in self.driver]\n",
        "\n",
        "    chg_pts = self.find_chg_pts(driver_sig)\n",
        "    events = [self.label_f(self.events, new_signals, pt.t) for pt in chg_pts]\n",
        "    new_tt = TimedTrace([pt.t for pt in chg_pts], events)\n",
        "    self.timed_traces.append(new_tt)\n",
        "    self.traces.append(Trace(tt=new_tt))"
      ],
      "metadata": {
        "id": "3uri_GTsi5a7"
      },
      "execution_count": 12,
      "outputs": []
    },
    {
      "cell_type": "code",
      "source": [
        "def label_event(events: List[Event], signals: List[SampledSignal], t: Timestamp):\n",
        "    speed_sig = signals[1]\n",
        "    pressure_sig = signals[2]\n",
        "    speed = {pt.timestamp: (i, pt.value) for i, pt in enumerate(speed_sig.points)}\n",
        "    pressure = {pt.timestamp: (i, pt.value) for i, pt in enumerate(pressure_sig.points)}\n",
        "\n",
        "    # create a list of tuples where each tuple contains the limits of a speed interval\n",
        "    SPEED_INTERVALS: List[Tuple[int, int]] = []\n",
        "    for i in range(MIN_SPEED, MAX_SPEED, SPEED_RANGE):\n",
        "        if i < MAX_SPEED - SPEED_RANGE:\n",
        "            SPEED_INTERVALS.append((i, i + SPEED_RANGE))\n",
        "        else:\n",
        "            SPEED_INTERVALS.append((i, None))\n",
        "\n",
        "    # identify the current and previous speed wrt the given timestamp t\n",
        "    curr_speed_index, curr_speed = speed[t]\n",
        "    if curr_speed_index > 0:\n",
        "        try:\n",
        "            prev_index = [tup[0] for tup in speed.values() if tup[0] < curr_speed_index][-1]\n",
        "            prev_speed = speed_sig.points[prev_index].value\n",
        "        except IndexError:\n",
        "            prev_speed = None\n",
        "    else:\n",
        "        prev_speed = curr_speed\n",
        "\n",
        "    # identify the current and previous pressure wrt the given timestamp t\n",
        "    curr_press_index, curr_press = pressure[t]\n",
        "    if curr_press_index > 0:\n",
        "        try:\n",
        "            prev_index = [tup[0] for tup in pressure.values() if tup[0] < curr_press_index][-1]\n",
        "            prev_press = pressure_sig.points[prev_index].value\n",
        "        except IndexError:\n",
        "            prev_press = None\n",
        "    else:\n",
        "        prev_press = curr_press\n",
        "\n",
        "    identified_event = None\n",
        "\n",
        "    # if there is a pressure change, there is a load or unload event\n",
        "    if curr_press != prev_press:\n",
        "        # from 0 to 1 -> load\n",
        "        if curr_press == 1.0 and prev_press == 0.0:\n",
        "            identified_event = events[-2]\n",
        "        # from 1 to 0 -> unload\n",
        "        else:\n",
        "            identified_event = events[-1]\n",
        "    # if the previous velocity is bigger than the current one, we are going to 0 and we need to identify a stop event\n",
        "    elif curr_speed < prev_speed:\n",
        "        identified_event = events[-3]\n",
        "    else:\n",
        "        i = curr_speed_index\n",
        "        while i < speed.__len__():\n",
        "            const_speed = speed_sig.points[i].value\n",
        "            if const_speed == speed_sig.points[i + 1].value and const_speed != 0:\n",
        "                break\n",
        "            else:\n",
        "                i += 1\n",
        "        # if the spindle is moving, return the constant speed that it will reach as a set point\n",
        "        for i, interval in enumerate(SPEED_INTERVALS):\n",
        "            if interval[0] <= const_speed <= interval[1]:\n",
        "                identified_event = events[i]\n",
        "\n",
        "    #if identified_event is None:\n",
        "        #LOGGER.error(\"No event was identified at time {}.\".format(t))\n",
        "\n",
        "    return identified_event"
      ],
      "metadata": {
        "id": "6-1zskxfaWN2"
      },
      "execution_count": 13,
      "outputs": []
    },
    {
      "cell_type": "code",
      "source": [
        "def is_chg_pt(curr, prev):\n",
        "    speed_cond = False\n",
        "    if (curr[3] == 1 and prev[3] == 0) or (curr[3] == -1 and prev[3] == 0) or (curr[3] == 1 and prev[3] == -1):\n",
        "        speed_cond = True\n",
        "    return speed_cond or curr[1] != prev[1]"
      ],
      "metadata": {
        "id": "ku8m6tnoxUBx"
      },
      "execution_count": 14,
      "outputs": []
    },
    {
      "cell_type": "markdown",
      "source": [
        "##Funzioni per elaborazione segnali"
      ],
      "metadata": {
        "id": "r54qHR5iadeU"
      }
    },
    {
      "cell_type": "code",
      "source": [
        "DRIVER_SIG = ['w', 'pr', 'id', 'wd']\n",
        "DEFAULT_M = 0\n",
        "DEFAULT_DISTR = 0\n",
        "\n",
        "base_path=\"/content/drive/MyDrive/TESI AUTOMATA LEARNING/TRAIN/\"\n",
        "data_paths = [base_path+\"_03_mar_1.csv\",\n",
        "                base_path+\"_05_may_1.csv\",\n",
        "                base_path+\"_05_may_2.csv\",\n",
        "                base_path+\"_11_jan_2.csv\",\n",
        "                base_path+\"_12_apr_1.csv\",\n",
        "                base_path+\"_12_apr_2.csv\",\n",
        "                base_path+\"_12_jan_2.csv\",\n",
        "                base_path+\"_12_jan_3.csv\",\n",
        "                base_path+\"_12_jan_4.csv\",\n",
        "                base_path+\"_12_jan_5.csv\"\n",
        "                ]"
      ],
      "metadata": {
        "id": "6LE6cQ35fwLZ"
      },
      "execution_count": 15,
      "outputs": []
    },
    {
      "cell_type": "code",
      "source": [
        "import configparser\n",
        "import os\n",
        "from typing import List\n",
        "\n",
        "from sha_learning.domain.lshafeatures import Event, NormalDistribution, Trace\n",
        "from sha_learning.domain.sigfeatures import Timestamp, SampledSignal\n",
        "from sha_learning.domain.sulfeatures import SystemUnderLearning, RealValuedVar, FlowCondition\n",
        "\n",
        "config = configparser.ConfigParser()  # open the configuration file\n",
        "config.sections()\n",
        "config.read('./resources/config/config.ini')\n",
        "config.sections()"
      ],
      "metadata": {
        "colab": {
          "base_uri": "https://localhost:8080/"
        },
        "id": "-FwdtQp4HktC",
        "outputId": "e6aceb0a-f6cd-46b1-98b3-d52785f3c0ae"
      },
      "execution_count": 16,
      "outputs": [
        {
          "output_type": "execute_result",
          "data": {
            "text/plain": [
              "[]"
            ]
          },
          "metadata": {},
          "execution_count": 16
        }
      ]
    },
    {
      "cell_type": "code",
      "source": [
        "def get_power_param(segment: List[SignalPoint], flow: FlowCondition):\n",
        "    sum_power = sum([pt.value for pt in segment])\n",
        "    avg_power = sum_power / len(segment)\n",
        "    return avg_power"
      ],
      "metadata": {
        "id": "3A5I3XYaHlHv"
      },
      "execution_count": 17,
      "outputs": []
    },
    {
      "cell_type": "code",
      "source": [
        "def pwr_model(interval: List[Timestamp], P_0):\n",
        "    interval = [ts.to_secs() for ts in interval]\n",
        "    AVG_PW = 1.0\n",
        "    return [AVG_PW] * len(interval)\n",
        "\n",
        "\n",
        "# define flow conditions\n",
        "on_fc: FlowCondition = FlowCondition(0, pwr_model)\n",
        "\n",
        "# define distributions\n",
        "off_distr = NormalDistribution(0, 0.0, 0.0)\n",
        "\n",
        "model2distr = {0: []}\n",
        "power = RealValuedVar([on_fc], [], model2distr, label='P')\n",
        "\n",
        "# define events as different velocities ranges and stop, load and unload\n",
        "events: List[Event] = []\n",
        "for i in range(MIN_SPEED, MAX_SPEED, SPEED_RANGE):\n",
        "    if i < MAX_SPEED - SPEED_RANGE:\n",
        "        new_guard = '{}<=w<{}'.format(i, i + SPEED_RANGE)\n",
        "    else:\n",
        "        new_guard = '{}<=w'.format(i)\n",
        "    events.append(Event(new_guard, 'start', 'm_{}'.format(len(events))))\n",
        "\n",
        "spindle_off = Event('', 'stop', 'i_0')\n",
        "\n",
        "events.append(spindle_off)\n",
        "events.append(Event('', 'load', 'l'))\n",
        "events.append(Event('', 'unload', 'u'))\n",
        "\n",
        "DRIVER_SIG = ['w', 'pr', 'id', 'wd']\n",
        "DEFAULT_M = 0\n",
        "DEFAULT_DISTR = 0\n",
        "\n",
        "args = {'name': 'energy', 'driver': DRIVER_SIG, 'default_m': DEFAULT_M, 'default_d': DEFAULT_DISTR}\n",
        "energy_made_cs = SystemUnderLearning([power], events, parse_data, label_event, get_power_param, is_chg_pt, args=args)\n"
      ],
      "metadata": {
        "id": "uu0kAzlkvmAi"
      },
      "execution_count": 18,
      "outputs": []
    },
    {
      "cell_type": "code",
      "source": [
        "def double_plot(timestamps1, v1, timestamps2, v2, t: TimedTrace, title, filtered=False, timestamps3=None, v3=None):\n",
        "    subplots = 2 if timestamps3 is None else 3\n",
        "    fig, axs = plt.subplots(subplots, figsize=(60, 30), gridspec_kw={'height_ratios': [3, 3, 3]})\n",
        "\n",
        "    SIG_WIDTH = 2.0\n",
        "\n",
        "    t1 = [x.to_secs() for x in timestamps1]\n",
        "    # t1 = [i for i, x in enumerate(timestamps1)]\n",
        "    axs[0].plot(t1, v1, 'k-', label='power', linewidth=SIG_WIDTH)\n",
        "    axs[0].plot(t1, [0] * len(v1), 'k--', linewidth=.5)\n",
        "\n",
        "    t2 = [x.to_secs() for x in timestamps2]\n",
        "    # t2 = [i for i, x in enumerate(timestamps2)]\n",
        "    axs[1].plot(t2, v2, 'k-', label='speed', linewidth=SIG_WIDTH)\n",
        "    axs[1].plot(t2, [0] * len(v2), 'k-', linewidth=.5)\n",
        "\n",
        "    if timestamps3 is not None:\n",
        "        t3 = [x.to_secs() for x in timestamps3]\n",
        "        # t3 = [i for i, x in enumerate(timestamps3)]\n",
        "        axs[2].plot(t3, v3, 'k-', label='pressure', linewidth=SIG_WIDTH)\n",
        "        axs[2].plot(t3, [0] * len(v3), 'k-', linewidth=.5)\n",
        "\n",
        "    LABEL_FONT = 32\n",
        "    TICK_FONT = 30\n",
        "    EVENT_FONT = 22\n",
        "    EVENT_WIDTH = 2.0\n",
        "    TITLE_FONT = 38\n",
        "    MARKER_SIZE = 30\n",
        "\n",
        "    HEIGHT1 = max(v1) + 1\n",
        "    HEIGHT2 = max(v2) + 100\n",
        "    HEIGHT3 = max(v3) + 100\n",
        "\n",
        "    colors = ['orange', 'b', 'green', 'red']\n",
        "    labels = ['spindle start', 'spindle stop', 'pressure up', 'pressure down']\n",
        "\n",
        "    marker = 'x'\n",
        "    height1 = HEIGHT1\n",
        "    height2 = HEIGHT2\n",
        "    height3 = HEIGHT3\n",
        "\n",
        "    i = 0\n",
        "    labels = [e.symbol for e in t.e]\n",
        "    events = [ts.to_secs() for ts in t.t]\n",
        "    print(labels)\n",
        "    # events = [[i for i in t1 if timestamps1[i].to_secs() == e_t.to_secs()][0] for e_t in t.t]\n",
        "    axs[0].vlines(events, [0] * len(events), [height1] * len(events), color=colors[i], linewidth=EVENT_WIDTH)\n",
        "    for i, e in enumerate(events):\n",
        "        if labels[i] == 'l':\n",
        "            color = colors[2]\n",
        "            marker = '^'\n",
        "        elif labels[i] == 'u':\n",
        "            color = colors[3]\n",
        "            marker = 'v'\n",
        "        elif labels[i] == 'i_0':\n",
        "            color = colors[1]\n",
        "            marker = 'v'\n",
        "        else:\n",
        "            color = colors[0]\n",
        "            marker = '^'\n",
        "        axs[0].plot(e, height1, marker, color=color, label=labels[i], markersize=MARKER_SIZE)\n",
        "        axs[0].vlines(e, 0, height1, color='k', linewidth=EVENT_WIDTH)\n",
        "        #axs[0].text(e, height1, labels[i], fontsize=EVENT_FONT)\n",
        "    # axs[0].plot(events[1:-1], [0] * (len(events) - 2), color='k', linewidth=50, zorder=1)\n",
        "    # ops = ['26', '14', '16', '4', '26', '2']\n",
        "    # i_op = 0\n",
        "    i = 0\n",
        "    # axs[2].plot(events, [height2] * len(events), marker, color=colors[i], label=labels[i])\n",
        "    # axs[2].vlines(events, [0] * len(events), [height2] * len(events), color=colors[i], linewidth=EVENT_WIDTH)\n",
        "    for i, e in enumerate(events):\n",
        "        if labels[i] in ['l', 'u']:\n",
        "            continue\n",
        "\n",
        "        if labels[i] == 'i_0':\n",
        "            color = colors[1]\n",
        "            marker = 'v'\n",
        "        else:\n",
        "            color = colors[0]\n",
        "            marker = '^'\n",
        "        axs[1].plot(e, height2, marker, color=color, label=labels[i], markersize=MARKER_SIZE)\n",
        "        axs[1].vlines(e, 0, height2, color='k', linewidth=EVENT_WIDTH)\n",
        "        # axs[0].vlines(e, -0.1, +0.1, color='white', linewidth=8, zorder=4)\n",
        "        # if labels[i] not in ['l', 'u', 'i_0']:\n",
        "        # print('{}: {}'.format(ops[i_op], e + (events[i + 1] - e)))\n",
        "        # axs[0].text(e + (events[i + 1] - e) / 2, -0.05, ops[i_op], color='white', zorder=4, fontsize=40)\n",
        "        # i_op += 1\n",
        "        # axs[2].text(e, height2, labels[i], fontsize=EVENT_FONT)\n",
        "\n",
        "    i = 0\n",
        "    # axs[3].plot(events, [height3] * len(events), marker, color=colors[i], label=labels[i])\n",
        "    # axs[3].vlines(events, [0] * len(events), [height3] * len(events), color=colors[i], linewidth=EVENT_WIDTH)\n",
        "    for i, e in enumerate(events):\n",
        "        if labels[i].startswith('i') or labels[i].startswith('m'):\n",
        "            continue\n",
        "        if labels[i] == 'l':\n",
        "            color = colors[2]\n",
        "            marker = '^'\n",
        "        else:\n",
        "            color = colors[3]\n",
        "            marker = 'v'\n",
        "        axs[2].plot(e, height3, marker, color=color, label=labels[i], markersize=MARKER_SIZE)\n",
        "        axs[2].vlines(e, 0, height3, color='k', linewidth=EVENT_WIDTH)\n",
        "        # axs[3].text(e, height3, labels[i], fontsize=EVENT_FONT)\n",
        "\n",
        "    PAD = 0.1\n",
        "\n",
        "    step = 300\n",
        "    xticks = [str(x.hour) + ':' + str(x.min).zfill(2) for x in timestamps1][::step]\n",
        "    # xticks = [str(x) for x in t1][::step] + [str(t1[-1])]\n",
        "    # axs[1].set_xticks(ticks=[int(o) for o in xticks])\n",
        "    axs[0].set_xticks(ticks=[x for x in t1[::step]])\n",
        "    axs[0].set_xticklabels(labels=xticks, fontsize=TICK_FONT)\n",
        "    xmin, xmax = axs[0].get_xlim()\n",
        "    axs[0].set_xlim(xmin - PAD, xmax)\n",
        "    yticks = np.arange(0, max(v1) + 1, 1)\n",
        "    axs[0].set_yticks(ticks=yticks)\n",
        "    axs[0].set_yticklabels(labels=yticks, fontsize=TICK_FONT)\n",
        "    ymin, ymax = axs[0].get_ylim()\n",
        "    axs[0].set_ylim(0, ymax)\n",
        "\n",
        "    # step = 60\n",
        "    xticks = [str(x.hour) + ':' + str(x.min).zfill(2) for x in timestamps2][::step]\n",
        "    # axs[2].set_xticks(ticks=[int(o) for o in xticks])\n",
        "    axs[1].set_xticks(ticks=[x for x in t1[::step]])\n",
        "    axs[1].set_xticklabels(labels=xticks, fontsize=TICK_FONT)\n",
        "    xmin, xmax = axs[1].get_xlim()\n",
        "    axs[1].set_xlim(xmin - PAD, xmax)\n",
        "    yticks = np.arange(0, max(v2) + 400, 400)\n",
        "    axs[1].set_yticks(ticks=yticks)\n",
        "    axs[1].set_yticklabels(labels=yticks, fontsize=TICK_FONT)\n",
        "    ymin, ymax = axs[1].get_ylim()\n",
        "    axs[1].set_ylim(0, ymax)\n",
        "\n",
        "    # step = 120\n",
        "    xticks = [str(x.hour) + ':' + str(x.min).zfill(2) for x in timestamps3][::step]\n",
        "    # axs[3].set_xticks(ticks=[int(o) for o in xticks])\n",
        "    axs[2].set_xticks(ticks=[x for x in t1[::step]])\n",
        "    axs[2].set_xticklabels(labels=xticks, fontsize=TICK_FONT)\n",
        "    xmin, xmax = axs[2].get_xlim()\n",
        "    axs[2].set_xlim(xmin - PAD, xmax)\n",
        "    yticks = np.arange(0, max(v3) + 1, 800)\n",
        "    axs[2].set_yticks(ticks=yticks)\n",
        "    # axs[2].set_yticklabels(labels=['unlocked', 'locked'], fontsize=TICK_FONT)\n",
        "    ymin, ymax = axs[2].get_ylim()\n",
        "    axs[2].set_ylim(0, ymax)\n",
        "\n",
        "    # axs[0].set_xticks(ticks=[int(o) for o in xticks])\n",
        "    # axs[0].set_xticklabels(labels=xticks, fontsize=TICK_FONT)\n",
        "    # axs[0].set_yticks(ticks=[0])\n",
        "    # axs[0].set_yticklabels(labels=['OP'], fontsize=TICK_FONT)\n",
        "    # axs[0].set_xlabel('t [s]', fontsize=LABEL_FONT)\n",
        "    # axs[0].set_ylabel('', fontsize=LABEL_FONT)\n",
        "    # axs[0].set_title('Operation ID', fontsize=TITLE_FONT)\n",
        "\n",
        "    # axs[1].set_xlim(t1[0], t1[-1])\n",
        "    axs[0].set_xlabel('t [hh:mm]', fontsize=LABEL_FONT)\n",
        "    axs[0].set_ylabel('[kW]', fontsize=LABEL_FONT)\n",
        "    axs[0].set_title('Potenza Totale', fontsize=TITLE_FONT)\n",
        "\n",
        "    # axs[2].set_xlim(t1[0], t1[-1])\n",
        "    axs[1].set_xlabel('t [hh:mm]', fontsize=LABEL_FONT)\n",
        "    axs[1].set_ylabel('[rpm]', fontsize=LABEL_FONT)\n",
        "    axs[1].set_title('Velocità Mandrino', fontsize=TITLE_FONT)\n",
        "\n",
        "    # axs[3].set_xlim(t1[0], t1[-1])\n",
        "    axs[2].set_xlabel('t [hh:mm]', fontsize=LABEL_FONT)\n",
        "    axs[2].set_ylabel('', fontsize=LABEL_FONT)\n",
        "    axs[2].set_title('Pressione', fontsize=TITLE_FONT)\n",
        "\n",
        "    # axs[1].legend(fontsize=20)\n",
        "    # axs[2].legend(fontsize=20)\n",
        "\n",
        "    plt.tight_layout(pad=10.0)\n",
        "    #fig.savefig(SAVE_PATH + '{}.pdf'.format(title))\n",
        "\n",
        "    del fig, axs\n"
      ],
      "metadata": {
        "id": "TY6LOZgTyND8"
      },
      "execution_count": 19,
      "outputs": []
    },
    {
      "cell_type": "code",
      "source": [
        "def extractTimestamps(points):\n",
        "  return [str(point.timestamp).split(' ', 1)[1] for point in points]\n",
        "\n",
        "def transform_times_to_seconds_cumulative(times):\n",
        "    # Converte i tempi nel formato 'HH:MM:SS' in secondi totali\n",
        "    times_seconds = [sum(int(x) * 60**i for i, x in enumerate(reversed(time.split(':')))) for time in times]\n",
        "    # Calcola il tempo cumulativo trascorso dal primo elemento\n",
        "    times_transformed = [time - times_seconds[0] for time in times_seconds]\n",
        "    return np.array(times_transformed)"
      ],
      "metadata": {
        "id": "QjQ2qp-sdD5v"
      },
      "execution_count": 20,
      "outputs": []
    },
    {
      "cell_type": "code",
      "source": [
        "from pykalman import KalmanFilter\n",
        "def generateData(data_path):\n",
        "  new_signals: List[SampledSignal] = parse_data(data_path)\n",
        "  chg_pts = energy_made_cs.find_chg_pts([sig for sig in new_signals if sig.label in DRIVER_SIG])\n",
        "  power_pts = new_signals[0].points\n",
        "  speed_pts = new_signals[1].points\n",
        "  pressure_pts = new_signals[2].points\n",
        "  power_values = [pt.value for pt in power_pts]\n",
        "  id_events = [label_event(events, new_signals, pt.t) for pt in chg_pts[:10]]\n",
        "  energy_made_cs.process_data(data_path)\n",
        "  trace = energy_made_cs.timed_traces[-1]\n",
        "  kf = KalmanFilter(transition_matrices=[1],\n",
        "                observation_matrices=[1],\n",
        "                initial_state_mean=power_values[0],\n",
        "                initial_state_covariance=1,\n",
        "                observation_covariance=1,\n",
        "                transition_covariance=0.01)\n",
        "  smoothed_power, _ = kf.filter(power_values)\n",
        "  for i, pt in enumerate(power_pts):\n",
        "      pt.value = smoothed_power[i]\n",
        "  power_data = np.array([pt.value for pt in power_pts]).ravel()\n",
        "  speed_data = np.array([pt.value for pt in speed_pts]).ravel()\n",
        "  t_power = transform_times_to_seconds_cumulative(np.array(extractTimestamps(power_pts)))\n",
        "  t_speed = transform_times_to_seconds_cumulative(np.array(extractTimestamps(speed_pts)))\n",
        "  #double_plot([pt.timestamp for pt in power_pts], [pt.value for pt in power_pts],\n",
        "   #       [pt.timestamp for pt in speed_pts], [pt.value for pt in speed_pts],\n",
        "    #      trace, title=\"file\", filtered=True,\n",
        "     #     timestamps3=[pt.timestamp for pt in pressure_pts],\n",
        "      #    v3=[pt.value for pt in pressure_pts])\n",
        "  return power_data, speed_data, t_power"
      ],
      "metadata": {
        "id": "SlgU2NF9K0dz"
      },
      "execution_count": 46,
      "outputs": []
    },
    {
      "cell_type": "code",
      "source": [
        "power_datas = []\n",
        "speed_datas = []\n",
        "ts = []\n",
        "\n",
        "for dp in data_paths:\n",
        "  pd, sd, t = generateData(dp)\n",
        "  power_datas.append(pd)\n",
        "  speed_datas.append(sd)\n",
        "  ts.append(t)"
      ],
      "metadata": {
        "id": "mzljzYtYZCsn"
      },
      "execution_count": 47,
      "outputs": []
    },
    {
      "cell_type": "markdown",
      "source": [
        "![image.png](data:image/png;base64,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)"
      ],
      "metadata": {
        "id": "8oN6jvGQUjPr"
      }
    },
    {
      "cell_type": "markdown",
      "source": [
        "##Pre processing dei dati"
      ],
      "metadata": {
        "id": "kFPzW8qe5L4F"
      }
    },
    {
      "cell_type": "code",
      "source": [
        "def train_test_split(speed_datas, power_datas, ts, train_size):\n",
        "  train_size = int(len(speed_datas)*train_size)\n",
        "  return speed_datas[:train_size], speed_datas[train_size:], power_datas[:train_size], power_datas[train_size:], ts[:train_size], ts[train_size:]"
      ],
      "metadata": {
        "id": "5ygshbYIfeVZ"
      },
      "execution_count": 73,
      "outputs": []
    },
    {
      "cell_type": "code",
      "source": [
        "train_speed, test_speed, train_power, test_power, train_ts, test_ts = train_test_split(speed_datas, power_datas, ts ,train_size=0.9)\n",
        "x_train = []\n",
        "for speed, power in zip(train_speed, train_power):\n",
        "  x = np.column_stack((speed,power))\n",
        "  x_train.append(x)\n",
        "x_test = np.column_stack((test_speed[0],test_power[0]))\n",
        "print(x_test.shape)\n"
      ],
      "metadata": {
        "id": "L4C03KAa1jrn",
        "colab": {
          "base_uri": "https://localhost:8080/"
        },
        "outputId": "214c56d0-843d-427c-a4f1-7eb1951e67d0"
      },
      "execution_count": 110,
      "outputs": [
        {
          "output_type": "stream",
          "name": "stdout",
          "text": [
            "(495, 2)\n"
          ]
        }
      ]
    },
    {
      "cell_type": "markdown",
      "source": [
        "###Suddivisione in segmenti"
      ],
      "metadata": {
        "id": "gZdTG_hpDSuZ"
      }
    },
    {
      "cell_type": "code",
      "source": [
        "# Lista per memorizzare gli eventi e le relative parti di segnale\n",
        "event_segments = []\n",
        "\n",
        "def extractSegments(chg_pts, speed_pts, power_pts, events):\n",
        "# Iteriamo su ogni changin point per identificare gli eventi\n",
        "  for i in range(1, len(chg_pts) - 1):\n",
        "    # Estraiamo i changin points consecutivi\n",
        "      cp_start = chg_pts[i]\n",
        "      cp_end = chg_pts[i + 1]\n",
        "    # Estraiamo l'evento corrispondente ai changin points\n",
        "      event = label_event(events, new_signals, cp_start.t)\n",
        "\n",
        "      event_start_timestamp = cp_start.t\n",
        "      event_end_timestamp = cp_end.t\n",
        "\n",
        "    # Cerchiamo la parte di segnale del segnale di speed relativa all'evento corrente\n",
        "      speed_segment = [pt for pt in speed_pts if event_start_timestamp <= pt.timestamp < event_end_timestamp]\n",
        "\n",
        "    # Cerchiamo la parte di segnale del segnale di power relativa allo stesso intervallo di tempo\n",
        "      power_segment = [pt for pt in power_pts if event_start_timestamp <= pt.timestamp < event_end_timestamp]\n",
        "\n",
        "    # Aggiungiamo le parti di segnale e l'evento alla lista degli event_segments\n",
        "      event_segments.append((event.label, event.symbol, speed_segment, power_segment))\n",
        "  return event_segments\n",
        "\n",
        "\n",
        "import matplotlib.pyplot as plt\n",
        "\n",
        "# Iteriamo su ogni segmento e plottiamo un grafico per ciascuno di essi\n",
        "for i, (label, symbol, speed_segment, power_segment) in enumerate(event_segments):\n",
        "    # Creiamo due nuove figure e assi per il plot\n",
        "    fig, (ax1, ax2) = plt.subplots(2, 1)\n",
        "\n",
        "    # Estraiamo i timestamp e i valori relativi al segnale di speed\n",
        "    speed_timestamps = [pt.timestamp.to_secs() for pt in speed_segment]\n",
        "    speed_values = [pt.value for pt in speed_segment]\n",
        "\n",
        "    # Estraiamo i timestamp e i valori relativi al segnale di power\n",
        "    power_timestamps = [pt.timestamp.to_secs() for pt in power_segment]\n",
        "    power_values = [pt.value for pt in power_segment]\n",
        "\n",
        "    # Plottiamo i dati relativi al segnale di speed\n",
        "    ax1.plot(speed_timestamps, speed_values, label=label + ' Speed')\n",
        "    ax1.set_ylabel('Speed')  # Etichetta dell'asse y per il segnale di velocità\n",
        "    ax1.legend()  # Aggiungiamo la legenda al plot di speed\n",
        "\n",
        "    # Plottiamo i dati relativi al segnale di power\n",
        "    ax2.plot(power_timestamps, power_values, label=label + ' Power')\n",
        "    ax2.set_xlabel('Timestamp')  # Etichetta dell'asse x per il segnale di potenza\n",
        "    ax2.set_ylabel('Power')  # Etichetta dell'asse y per il segnale di potenza\n",
        "    ax2.legend()  # Aggiungiamo la legenda al plot di power\n",
        "\n",
        "    # Aggiungiamo un titolo al plot\n",
        "    fig.suptitle('Segmento {} - {}'.format(i+1, symbol))\n",
        "\n",
        "    # Mostrare i plot\n",
        "    plt.show()\n",
        "\n"
      ],
      "metadata": {
        "colab": {
          "base_uri": "https://localhost:8080/",
          "height": 219
        },
        "id": "GWCffI8p157K",
        "outputId": "df7ffa3e-6892-4a04-f6b5-1d3922d19416"
      },
      "execution_count": 28,
      "outputs": [
        {
          "output_type": "error",
          "ename": "NameError",
          "evalue": "name 'event_segments' is not defined",
          "traceback": [
            "\u001b[0;31m---------------------------------------------------------------------------\u001b[0m",
            "\u001b[0;31mNameError\u001b[0m                                 Traceback (most recent call last)",
            "\u001b[0;32m<ipython-input-28-38135900ba97>\u001b[0m in \u001b[0;36m<cell line: 29>\u001b[0;34m()\u001b[0m\n\u001b[1;32m     27\u001b[0m \u001b[0;34m\u001b[0m\u001b[0m\n\u001b[1;32m     28\u001b[0m \u001b[0;31m# Iteriamo su ogni segmento e plottiamo un grafico per ciascuno di essi\u001b[0m\u001b[0;34m\u001b[0m\u001b[0;34m\u001b[0m\u001b[0m\n\u001b[0;32m---> 29\u001b[0;31m \u001b[0;32mfor\u001b[0m \u001b[0mi\u001b[0m\u001b[0;34m,\u001b[0m \u001b[0;34m(\u001b[0m\u001b[0mlabel\u001b[0m\u001b[0;34m,\u001b[0m \u001b[0msymbol\u001b[0m\u001b[0;34m,\u001b[0m \u001b[0mspeed_segment\u001b[0m\u001b[0;34m,\u001b[0m \u001b[0mpower_segment\u001b[0m\u001b[0;34m)\u001b[0m \u001b[0;32min\u001b[0m \u001b[0menumerate\u001b[0m\u001b[0;34m(\u001b[0m\u001b[0mevent_segments\u001b[0m\u001b[0;34m)\u001b[0m\u001b[0;34m:\u001b[0m\u001b[0;34m\u001b[0m\u001b[0;34m\u001b[0m\u001b[0m\n\u001b[0m\u001b[1;32m     30\u001b[0m     \u001b[0;31m# Creiamo due nuove figure e assi per il plot\u001b[0m\u001b[0;34m\u001b[0m\u001b[0;34m\u001b[0m\u001b[0m\n\u001b[1;32m     31\u001b[0m     \u001b[0mfig\u001b[0m\u001b[0;34m,\u001b[0m \u001b[0;34m(\u001b[0m\u001b[0max1\u001b[0m\u001b[0;34m,\u001b[0m \u001b[0max2\u001b[0m\u001b[0;34m)\u001b[0m \u001b[0;34m=\u001b[0m \u001b[0mplt\u001b[0m\u001b[0;34m.\u001b[0m\u001b[0msubplots\u001b[0m\u001b[0;34m(\u001b[0m\u001b[0;36m2\u001b[0m\u001b[0;34m,\u001b[0m \u001b[0;36m1\u001b[0m\u001b[0;34m)\u001b[0m\u001b[0;34m\u001b[0m\u001b[0;34m\u001b[0m\u001b[0m\n",
            "\u001b[0;31mNameError\u001b[0m: name 'event_segments' is not defined"
          ]
        }
      ]
    },
    {
      "cell_type": "code",
      "source": [
        "index_chg_points = []\n",
        "time_interval = 20 # iperparametro\n",
        "# Scansiona i changing points per calcolare le lunghezze delle sequenze\n",
        "for i in range(1, len(chg_pts)):\n",
        "    time_interval = time_interval + (chg_pts[i].t - chg_pts[i-1].t)\n",
        "    sequence_length = int(time_interval/5)\n",
        "    index_chg_points.append(sequence_length)\n",
        "print(index_chg_points)"
      ],
      "metadata": {
        "id": "zEfkIc3m5A97"
      },
      "execution_count": null,
      "outputs": []
    },
    {
      "cell_type": "code",
      "source": [
        "speed_segments = []\n",
        "power_segments = []\n",
        "for i in range(0, len(index_chg_points) - 1, 2):\n",
        "  # Estrai i timestamp dei due punti di cambio consecutivi\n",
        "  timestamp_start = index_chg_points[i]\n",
        "  timestamp_end = index_chg_points[i+1]\n",
        "  # Estrai i segmenti di segnale di velocità e potenza\n",
        "  speed_segment = speed_data[timestamp_start:timestamp_end+1]\n",
        "  power_segment = power_data[timestamp_start:timestamp_end+1]\n",
        "  speed_segments.append(speed_segment)\n",
        "  power_segments.append(power_segment)\n",
        "  plt.figure()\n",
        "  plt.subplot(2, 1, 1)\n",
        "  plt.plot(speed_segment)\n",
        "  plt.title('Segmento di segnale di velocità')\n",
        "  plt.xlabel('Campione')\n",
        "  plt.ylabel('Velocità')\n",
        "  plt.subplot(2, 1, 2)\n",
        "  plt.plot(power_segment)\n",
        "  plt.title('Segmento di segnale di potenza')\n",
        "  plt.xlabel('Campione')\n",
        "  plt.ylabel('Potenza')\n",
        "  plt.show()"
      ],
      "metadata": {
        "id": "m09Ujm0L4YMl"
      },
      "execution_count": null,
      "outputs": []
    },
    {
      "cell_type": "markdown",
      "source": [
        "##Implementazione PySindy New"
      ],
      "metadata": {
        "id": "_ejLa2tHzyNA"
      }
    },
    {
      "cell_type": "code",
      "source": [
        "import pysindy as ps\n",
        "from pysindy import SINDy, SINDyDerivative\n",
        "from sklearn.model_selection import RandomizedSearchCV\n",
        "pol_library = ps.PolynomialLibrary(degree=3)\n",
        "fourier_library = ps.FourierLibrary()\n",
        "combined_library = pol_library + fourier_library\n",
        "feature_names = ['Power', 'Speed']\n",
        "# Model 3\n",
        "sr3_optimizer = ps.SR3(threshold=0.01, thresholder=\"l1\", normalize_columns=True)\n",
        "\n",
        "model = SINDy(\n",
        "    feature_names=feature_names,\n",
        "    feature_library=combined_library\n",
        "    )"
      ],
      "metadata": {
        "id": "DhEaF7mB0ghC"
      },
      "execution_count": 101,
      "outputs": []
    },
    {
      "cell_type": "code",
      "source": [
        "for speed, power, timestamp in zip(train_speed, train_power, train_ts):\n",
        "  model.fit(power,u=speed ,t=timestamp)"
      ],
      "metadata": {
        "colab": {
          "base_uri": "https://localhost:8080/"
        },
        "id": "Bhi70FzZig8w",
        "outputId": "d69c41b4-5bf7-4f4d-edee-b88ed1966477"
      },
      "execution_count": 102,
      "outputs": [
        {
          "output_type": "stream",
          "name": "stderr",
          "text": [
            "/usr/local/lib/python3.10/dist-packages/pysindy/optimizers/stlsq.py:191: UserWarning: Sparsity parameter is too big (0.1) and eliminated all coefficients\n",
            "  warnings.warn(\n",
            "/usr/local/lib/python3.10/dist-packages/pysindy/optimizers/stlsq.py:191: UserWarning: Sparsity parameter is too big (0.1) and eliminated all coefficients\n",
            "  warnings.warn(\n",
            "/usr/local/lib/python3.10/dist-packages/pysindy/optimizers/stlsq.py:191: UserWarning: Sparsity parameter is too big (0.1) and eliminated all coefficients\n",
            "  warnings.warn(\n",
            "/usr/local/lib/python3.10/dist-packages/pysindy/optimizers/stlsq.py:191: UserWarning: Sparsity parameter is too big (0.1) and eliminated all coefficients\n",
            "  warnings.warn(\n",
            "/usr/local/lib/python3.10/dist-packages/pysindy/optimizers/stlsq.py:191: UserWarning: Sparsity parameter is too big (0.1) and eliminated all coefficients\n",
            "  warnings.warn(\n",
            "/usr/local/lib/python3.10/dist-packages/pysindy/optimizers/stlsq.py:191: UserWarning: Sparsity parameter is too big (0.1) and eliminated all coefficients\n",
            "  warnings.warn(\n",
            "/usr/local/lib/python3.10/dist-packages/pysindy/optimizers/stlsq.py:191: UserWarning: Sparsity parameter is too big (0.1) and eliminated all coefficients\n",
            "  warnings.warn(\n",
            "/usr/local/lib/python3.10/dist-packages/pysindy/optimizers/stlsq.py:191: UserWarning: Sparsity parameter is too big (0.1) and eliminated all coefficients\n",
            "  warnings.warn(\n",
            "/usr/local/lib/python3.10/dist-packages/pysindy/optimizers/stlsq.py:191: UserWarning: Sparsity parameter is too big (0.1) and eliminated all coefficients\n",
            "  warnings.warn(\n"
          ]
        }
      ]
    },
    {
      "cell_type": "code",
      "source": [
        "model.score(test_power[0],u=test_speed[0] ,t=test_ts[0])"
      ],
      "metadata": {
        "colab": {
          "base_uri": "https://localhost:8080/"
        },
        "id": "OJOMR5NoXosT",
        "outputId": "33d809a4-00d4-4ea8-acff-7b5ac3de893b"
      },
      "execution_count": 80,
      "outputs": [
        {
          "output_type": "execute_result",
          "data": {
            "text/plain": [
              "-0.00027212099786400046"
            ]
          },
          "metadata": {},
          "execution_count": 80
        }
      ]
    },
    {
      "cell_type": "code",
      "source": [
        "from sklearn.model_selection import GridSearchCV\n",
        "from sklearn.model_selection import TimeSeriesSplit\n",
        "model = ps.SINDy(t_default=0.001)\n",
        "\n",
        "param_grid = {\n",
        "    \"optimizer__threshold\": [0.001, 0.01, 0.1],\n",
        "    \"optimizer__alpha\": [0.01, 0.05, 0.1],\n",
        "    \"feature_library\": [ps.PolynomialLibrary(), ps.FourierLibrary()],\n",
        "    \"differentiation_method__order\": [1, 2]\n",
        "}\n",
        "\n",
        "search = GridSearchCV(\n",
        "    model,\n",
        "    param_grid,\n",
        "    cv=TimeSeriesSplit(n_splits=5)\n",
        ")\n",
        "for x in x_train:\n",
        "  search.fit(x)\n",
        "\n",
        "print(\"Best parameters:\", search.best_params_)\n",
        "search.best_estimator_.print()"
      ],
      "metadata": {
        "colab": {
          "base_uri": "https://localhost:8080/"
        },
        "id": "5kK_15alpo1G",
        "outputId": "a7fee96f-0150-40a9-8ae5-86a4b6f7e576"
      },
      "execution_count": 115,
      "outputs": [
        {
          "output_type": "stream",
          "name": "stdout",
          "text": [
            "Best parameters: {'differentiation_method__order': 1, 'feature_library': PolynomialLibrary(), 'optimizer__alpha': 0.05, 'optimizer__threshold': 0.001}\n",
            "(x0)' = 391030.225 1 + 119.751 x0 + -2126403.172 x1 + 0.002 x0^2 + -203.372 x0 x1 + 2325282.055 x1^2\n",
            "(x1)' = 32.619 1 + 0.012 x0 + -172.060 x1 + -0.017 x0 x1 + 184.295 x1^2\n"
          ]
        }
      ]
    },
    {
      "cell_type": "code",
      "source": [
        "search.score(x_test)"
      ],
      "metadata": {
        "colab": {
          "base_uri": "https://localhost:8080/"
        },
        "id": "R-6wSAMZsTa3",
        "outputId": "8a9d1a91-dc6a-4eb6-e5a6-ec3bc647824c"
      },
      "execution_count": 116,
      "outputs": [
        {
          "output_type": "execute_result",
          "data": {
            "text/plain": [
              "0.015213621829738566"
            ]
          },
          "metadata": {},
          "execution_count": 116
        }
      ]
    },
    {
      "cell_type": "code",
      "source": [
        "# Simulazione di tutte le equazioni differenziali (ODE) identificate dal modello\n",
        "init_val = np.array([x_train[0]])\n",
        "x_learned = model.simulate(x_train[0], t_power)"
      ],
      "metadata": {
        "id": "7DdeN2fTEtsG"
      },
      "execution_count": null,
      "outputs": []
    },
    {
      "cell_type": "code",
      "source": [
        "def plot_versus_features(x_train, t_train, x_learned, t_test, feature_names):\n",
        "  for i in range(x_train.shape[1]):\n",
        "    plt.figure(figsize=(10, 6))\n",
        "\n",
        "    # Plot della simulazione\n",
        "    plt.plot(t_test, x_learned[:, i], label=f'Simulated - {feature_names[i]}', color='red')\n",
        "    plt.plot(t_train, x_train[:, i], label=f'Real Data - {feature_names[i]}', linestyle='--', color='blue')\n",
        "\n",
        "    plt.xlabel('Tempo')\n",
        "    plt.ylabel('Valore')\n",
        "    plt.title(f'Simulazione per {feature_names[i]}')\n",
        "    plt.legend()\n",
        "    plt.grid(True)\n",
        "    plt.show()"
      ],
      "metadata": {
        "id": "EqRKyyX7GZOl"
      },
      "execution_count": null,
      "outputs": []
    },
    {
      "cell_type": "code",
      "source": [
        "plot_versus_features(x_train, t_power, x_learned, t_power, feature_names)"
      ],
      "metadata": {
        "colab": {
          "base_uri": "https://localhost:8080/",
          "height": 1000
        },
        "id": "N7IDb8sAGLxz",
        "outputId": "736cc974-2095-40de-faa3-dd6c5c8841dc"
      },
      "execution_count": null,
      "outputs": [
        {
          "output_type": "display_data",
          "data": {
            "text/plain": [
              "<Figure size 1000x600 with 1 Axes>"
            ],
            "image/png": "[encoded data removed]"
          },
          "metadata": {}
        },
        {
          "output_type": "display_data",
          "data": {
            "text/plain": [
              "<Figure size 1000x600 with 1 Axes>"
            ],
            "image/png": "[encoded data removed]"
          },
          "metadata": {}
        }
      ]
    },
    {
      "cell_type": "markdown",
      "source": [
        "##Implementazione Regressore"
      ],
      "metadata": {
        "id": "6eZhGLGW0PpT"
      }
    },
    {
      "cell_type": "code",
      "source": [
        "from sklearn.svm import SVR\n",
        "from sklearn.metrics import mean_squared_error\n",
        "from sklearn.model_selection import GridSearchCV\n",
        "param_grid = {'C': [1, 10, 100, 1000],\n",
        "              'gamma': [0.1, 0.01, 0.001, 0.0001, 0.00001]}\n",
        "grid_search = GridSearchCV(SVR(kernel='rbf'), param_grid, cv=5)\n",
        "grid_search.fit(train_speed.reshape(-1, 1), train_power)\n",
        "best_params = grid_search.best_params_\n",
        "print(\"Parametri ottimali:\", best_params)"
      ],
      "metadata": {
        "colab": {
          "base_uri": "https://localhost:8080/"
        },
        "id": "xaA3o3pn3ZLK",
        "outputId": "ce412166-63ba-4e1a-d92b-1ce6227369f7"
      },
      "execution_count": null,
      "outputs": [
        {
          "output_type": "stream",
          "name": "stdout",
          "text": [
            "Parametri ottimali: {'C': 100, 'gamma': 1e-05}\n"
          ]
        }
      ]
    },
    {
      "cell_type": "code",
      "source": [
        "regressor = SVR(kernel='rbf', C=100, gamma=0.00001)\n",
        "regressor.fit(train_speed.reshape(-1, 1), train_power)"
      ],
      "metadata": {
        "colab": {
          "base_uri": "https://localhost:8080/",
          "height": 80
        },
        "id": "No1VhYDbzL7x",
        "outputId": "c196c5c6-7f2a-4bfd-ae28-f2a136e44546"
      },
      "execution_count": null,
      "outputs": [
        {
          "output_type": "execute_result",
          "data": {
            "text/plain": [
              "SVR(C=100, gamma=1e-05)"
            ],
            "text/html": [
              "<style>#sk-container-id-1 {\n",
              "  /* Definition of color scheme common for light and dark mode */\n",
              "  --sklearn-color-text: black;\n",
              "  --sklearn-color-line: gray;\n",
              "  /* Definition of color scheme for unfitted estimators */\n",
              "  --sklearn-color-unfitted-level-0: #fff5e6;\n",
              "  --sklearn-color-unfitted-level-1: #f6e4d2;\n",
              "  --sklearn-color-unfitted-level-2: #ffe0b3;\n",
              "  --sklearn-color-unfitted-level-3: chocolate;\n",
              "  /* Definition of color scheme for fitted estimators */\n",
              "  --sklearn-color-fitted-level-0: #f0f8ff;\n",
              "  --sklearn-color-fitted-level-1: #d4ebff;\n",
              "  --sklearn-color-fitted-level-2: #b3dbfd;\n",
              "  --sklearn-color-fitted-level-3: cornflowerblue;\n",
              "\n",
              "  /* Specific color for light theme */\n",
              "  --sklearn-color-text-on-default-background: var(--sg-text-color, var(--theme-code-foreground, var(--jp-content-font-color1, black)));\n",
              "  --sklearn-color-background: var(--sg-background-color, var(--theme-background, var(--jp-layout-color0, white)));\n",
              "  --sklearn-color-border-box: var(--sg-text-color, var(--theme-code-foreground, var(--jp-content-font-color1, black)));\n",
              "  --sklearn-color-icon: #696969;\n",
              "\n",
              "  @media (prefers-color-scheme: dark) {\n",
              "    /* Redefinition of color scheme for dark theme */\n",
              "    --sklearn-color-text-on-default-background: var(--sg-text-color, var(--theme-code-foreground, var(--jp-content-font-color1, white)));\n",
              "    --sklearn-color-background: var(--sg-background-color, var(--theme-background, var(--jp-layout-color0, #111)));\n",
              "    --sklearn-color-border-box: var(--sg-text-color, var(--theme-code-foreground, var(--jp-content-font-color1, white)));\n",
              "    --sklearn-color-icon: #878787;\n",
              "  }\n",
              "}\n",
              "\n",
              "#sk-container-id-1 {\n",
              "  color: var(--sklearn-color-text);\n",
              "}\n",
              "\n",
              "#sk-container-id-1 pre {\n",
              "  padding: 0;\n",
              "}\n",
              "\n",
              "#sk-container-id-1 input.sk-hidden--visually {\n",
              "  border: 0;\n",
              "  clip: rect(1px 1px 1px 1px);\n",
              "  clip: rect(1px, 1px, 1px, 1px);\n",
              "  height: 1px;\n",
              "  margin: -1px;\n",
              "  overflow: hidden;\n",
              "  padding: 0;\n",
              "  position: absolute;\n",
              "  width: 1px;\n",
              "}\n",
              "\n",
              "#sk-container-id-1 div.sk-dashed-wrapped {\n",
              "  border: 1px dashed var(--sklearn-color-line);\n",
              "  margin: 0 0.4em 0.5em 0.4em;\n",
              "  box-sizing: border-box;\n",
              "  padding-bottom: 0.4em;\n",
              "  background-color: var(--sklearn-color-background);\n",
              "}\n",
              "\n",
              "#sk-container-id-1 div.sk-container {\n",
              "  /* jupyter's `normalize.less` sets `[hidden] { display: none; }`\n",
              "     but bootstrap.min.css set `[hidden] { display: none !important; }`\n",
              "     so we also need the `!important` here to be able to override the\n",
              "     default hidden behavior on the sphinx rendered scikit-learn.org.\n",
              "     See: https://github.com/scikit-learn/scikit-learn/issues/21755 */\n",
              "  display: inline-block !important;\n",
              "  position: relative;\n",
              "}\n",
              "\n",
              "#sk-container-id-1 div.sk-text-repr-fallback {\n",
              "  display: none;\n",
              "}\n",
              "\n",
              "div.sk-parallel-item,\n",
              "div.sk-serial,\n",
              "div.sk-item {\n",
              "  /* draw centered vertical line to link estimators */\n",
              "  background-image: linear-gradient(var(--sklearn-color-text-on-default-background), var(--sklearn-color-text-on-default-background));\n",
              "  background-size: 2px 100%;\n",
              "  background-repeat: no-repeat;\n",
              "  background-position: center center;\n",
              "}\n",
              "\n",
              "/* Parallel-specific style estimator block */\n",
              "\n",
              "#sk-container-id-1 div.sk-parallel-item::after {\n",
              "  content: \"\";\n",
              "  width: 100%;\n",
              "  border-bottom: 2px solid var(--sklearn-color-text-on-default-background);\n",
              "  flex-grow: 1;\n",
              "}\n",
              "\n",
              "#sk-container-id-1 div.sk-parallel {\n",
              "  display: flex;\n",
              "  align-items: stretch;\n",
              "  justify-content: center;\n",
              "  background-color: var(--sklearn-color-background);\n",
              "  position: relative;\n",
              "}\n",
              "\n",
              "#sk-container-id-1 div.sk-parallel-item {\n",
              "  display: flex;\n",
              "  flex-direction: column;\n",
              "}\n",
              "\n",
              "#sk-container-id-1 div.sk-parallel-item:first-child::after {\n",
              "  align-self: flex-end;\n",
              "  width: 50%;\n",
              "}\n",
              "\n",
              "#sk-container-id-1 div.sk-parallel-item:last-child::after {\n",
              "  align-self: flex-start;\n",
              "  width: 50%;\n",
              "}\n",
              "\n",
              "#sk-container-id-1 div.sk-parallel-item:only-child::after {\n",
              "  width: 0;\n",
              "}\n",
              "\n",
              "/* Serial-specific style estimator block */\n",
              "\n",
              "#sk-container-id-1 div.sk-serial {\n",
              "  display: flex;\n",
              "  flex-direction: column;\n",
              "  align-items: center;\n",
              "  background-color: var(--sklearn-color-background);\n",
              "  padding-right: 1em;\n",
              "  padding-left: 1em;\n",
              "}\n",
              "\n",
              "\n",
              "/* Toggleable style: style used for estimator/Pipeline/ColumnTransformer box that is\n",
              "clickable and can be expanded/collapsed.\n",
              "- Pipeline and ColumnTransformer use this feature and define the default style\n",
              "- Estimators will overwrite some part of the style using the `sk-estimator` class\n",
              "*/\n",
              "\n",
              "/* Pipeline and ColumnTransformer style (default) */\n",
              "\n",
              "#sk-container-id-1 div.sk-toggleable {\n",
              "  /* Default theme specific background. It is overwritten whether we have a\n",
              "  specific estimator or a Pipeline/ColumnTransformer */\n",
              "  background-color: var(--sklearn-color-background);\n",
              "}\n",
              "\n",
              "/* Toggleable label */\n",
              "#sk-container-id-1 label.sk-toggleable__label {\n",
              "  cursor: pointer;\n",
              "  display: block;\n",
              "  width: 100%;\n",
              "  margin-bottom: 0;\n",
              "  padding: 0.5em;\n",
              "  box-sizing: border-box;\n",
              "  text-align: center;\n",
              "}\n",
              "\n",
              "#sk-container-id-1 label.sk-toggleable__label-arrow:before {\n",
              "  /* Arrow on the left of the label */\n",
              "  content: \"▸\";\n",
              "  float: left;\n",
              "  margin-right: 0.25em;\n",
              "  color: var(--sklearn-color-icon);\n",
              "}\n",
              "\n",
              "#sk-container-id-1 label.sk-toggleable__label-arrow:hover:before {\n",
              "  color: var(--sklearn-color-text);\n",
              "}\n",
              "\n",
              "/* Toggleable content - dropdown */\n",
              "\n",
              "#sk-container-id-1 div.sk-toggleable__content {\n",
              "  max-height: 0;\n",
              "  max-width: 0;\n",
              "  overflow: hidden;\n",
              "  text-align: left;\n",
              "  /* unfitted */\n",
              "  background-color: var(--sklearn-color-unfitted-level-0);\n",
              "}\n",
              "\n",
              "#sk-container-id-1 div.sk-toggleable__content.fitted {\n",
              "  /* fitted */\n",
              "  background-color: var(--sklearn-color-fitted-level-0);\n",
              "}\n",
              "\n",
              "#sk-container-id-1 div.sk-toggleable__content pre {\n",
              "  margin: 0.2em;\n",
              "  border-radius: 0.25em;\n",
              "  color: var(--sklearn-color-text);\n",
              "  /* unfitted */\n",
              "  background-color: var(--sklearn-color-unfitted-level-0);\n",
              "}\n",
              "\n",
              "#sk-container-id-1 div.sk-toggleable__content.fitted pre {\n",
              "  /* unfitted */\n",
              "  background-color: var(--sklearn-color-fitted-level-0);\n",
              "}\n",
              "\n",
              "#sk-container-id-1 input.sk-toggleable__control:checked~div.sk-toggleable__content {\n",
              "  /* Expand drop-down */\n",
              "  max-height: 200px;\n",
              "  max-width: 100%;\n",
              "  overflow: auto;\n",
              "}\n",
              "\n",
              "#sk-container-id-1 input.sk-toggleable__control:checked~label.sk-toggleable__label-arrow:before {\n",
              "  content: \"▾\";\n",
              "}\n",
              "\n",
              "/* Pipeline/ColumnTransformer-specific style */\n",
              "\n",
              "#sk-container-id-1 div.sk-label input.sk-toggleable__control:checked~label.sk-toggleable__label {\n",
              "  color: var(--sklearn-color-text);\n",
              "  background-color: var(--sklearn-color-unfitted-level-2);\n",
              "}\n",
              "\n",
              "#sk-container-id-1 div.sk-label.fitted input.sk-toggleable__control:checked~label.sk-toggleable__label {\n",
              "  background-color: var(--sklearn-color-fitted-level-2);\n",
              "}\n",
              "\n",
              "/* Estimator-specific style */\n",
              "\n",
              "/* Colorize estimator box */\n",
              "#sk-container-id-1 div.sk-estimator input.sk-toggleable__control:checked~label.sk-toggleable__label {\n",
              "  /* unfitted */\n",
              "  background-color: var(--sklearn-color-unfitted-level-2);\n",
              "}\n",
              "\n",
              "#sk-container-id-1 div.sk-estimator.fitted input.sk-toggleable__control:checked~label.sk-toggleable__label {\n",
              "  /* fitted */\n",
              "  background-color: var(--sklearn-color-fitted-level-2);\n",
              "}\n",
              "\n",
              "#sk-container-id-1 div.sk-label label.sk-toggleable__label,\n",
              "#sk-container-id-1 div.sk-label label {\n",
              "  /* The background is the default theme color */\n",
              "  color: var(--sklearn-color-text-on-default-background);\n",
              "}\n",
              "\n",
              "/* On hover, darken the color of the background */\n",
              "#sk-container-id-1 div.sk-label:hover label.sk-toggleable__label {\n",
              "  color: var(--sklearn-color-text);\n",
              "  background-color: var(--sklearn-color-unfitted-level-2);\n",
              "}\n",
              "\n",
              "/* Label box, darken color on hover, fitted */\n",
              "#sk-container-id-1 div.sk-label.fitted:hover label.sk-toggleable__label.fitted {\n",
              "  color: var(--sklearn-color-text);\n",
              "  background-color: var(--sklearn-color-fitted-level-2);\n",
              "}\n",
              "\n",
              "/* Estimator label */\n",
              "\n",
              "#sk-container-id-1 div.sk-label label {\n",
              "  font-family: monospace;\n",
              "  font-weight: bold;\n",
              "  display: inline-block;\n",
              "  line-height: 1.2em;\n",
              "}\n",
              "\n",
              "#sk-container-id-1 div.sk-label-container {\n",
              "  text-align: center;\n",
              "}\n",
              "\n",
              "/* Estimator-specific */\n",
              "#sk-container-id-1 div.sk-estimator {\n",
              "  font-family: monospace;\n",
              "  border: 1px dotted var(--sklearn-color-border-box);\n",
              "  border-radius: 0.25em;\n",
              "  box-sizing: border-box;\n",
              "  margin-bottom: 0.5em;\n",
              "  /* unfitted */\n",
              "  background-color: var(--sklearn-color-unfitted-level-0);\n",
              "}\n",
              "\n",
              "#sk-container-id-1 div.sk-estimator.fitted {\n",
              "  /* fitted */\n",
              "  background-color: var(--sklearn-color-fitted-level-0);\n",
              "}\n",
              "\n",
              "/* on hover */\n",
              "#sk-container-id-1 div.sk-estimator:hover {\n",
              "  /* unfitted */\n",
              "  background-color: var(--sklearn-color-unfitted-level-2);\n",
              "}\n",
              "\n",
              "#sk-container-id-1 div.sk-estimator.fitted:hover {\n",
              "  /* fitted */\n",
              "  background-color: var(--sklearn-color-fitted-level-2);\n",
              "}\n",
              "\n",
              "/* Specification for estimator info (e.g. \"i\" and \"?\") */\n",
              "\n",
              "/* Common style for \"i\" and \"?\" */\n",
              "\n",
              ".sk-estimator-doc-link,\n",
              "a:link.sk-estimator-doc-link,\n",
              "a:visited.sk-estimator-doc-link {\n",
              "  float: right;\n",
              "  font-size: smaller;\n",
              "  line-height: 1em;\n",
              "  font-family: monospace;\n",
              "  background-color: var(--sklearn-color-background);\n",
              "  border-radius: 1em;\n",
              "  height: 1em;\n",
              "  width: 1em;\n",
              "  text-decoration: none !important;\n",
              "  margin-left: 1ex;\n",
              "  /* unfitted */\n",
              "  border: var(--sklearn-color-unfitted-level-1) 1pt solid;\n",
              "  color: var(--sklearn-color-unfitted-level-1);\n",
              "}\n",
              "\n",
              ".sk-estimator-doc-link.fitted,\n",
              "a:link.sk-estimator-doc-link.fitted,\n",
              "a:visited.sk-estimator-doc-link.fitted {\n",
              "  /* fitted */\n",
              "  border: var(--sklearn-color-fitted-level-1) 1pt solid;\n",
              "  color: var(--sklearn-color-fitted-level-1);\n",
              "}\n",
              "\n",
              "/* On hover */\n",
              "div.sk-estimator:hover .sk-estimator-doc-link:hover,\n",
              ".sk-estimator-doc-link:hover,\n",
              "div.sk-label-container:hover .sk-estimator-doc-link:hover,\n",
              ".sk-estimator-doc-link:hover {\n",
              "  /* unfitted */\n",
              "  background-color: var(--sklearn-color-unfitted-level-3);\n",
              "  color: var(--sklearn-color-background);\n",
              "  text-decoration: none;\n",
              "}\n",
              "\n",
              "div.sk-estimator.fitted:hover .sk-estimator-doc-link.fitted:hover,\n",
              ".sk-estimator-doc-link.fitted:hover,\n",
              "div.sk-label-container:hover .sk-estimator-doc-link.fitted:hover,\n",
              ".sk-estimator-doc-link.fitted:hover {\n",
              "  /* fitted */\n",
              "  background-color: var(--sklearn-color-fitted-level-3);\n",
              "  color: var(--sklearn-color-background);\n",
              "  text-decoration: none;\n",
              "}\n",
              "\n",
              "/* Span, style for the box shown on hovering the info icon */\n",
              ".sk-estimator-doc-link span {\n",
              "  display: none;\n",
              "  z-index: 9999;\n",
              "  position: relative;\n",
              "  font-weight: normal;\n",
              "  right: .2ex;\n",
              "  padding: .5ex;\n",
              "  margin: .5ex;\n",
              "  width: min-content;\n",
              "  min-width: 20ex;\n",
              "  max-width: 50ex;\n",
              "  color: var(--sklearn-color-text);\n",
              "  box-shadow: 2pt 2pt 4pt #999;\n",
              "  /* unfitted */\n",
              "  background: var(--sklearn-color-unfitted-level-0);\n",
              "  border: .5pt solid var(--sklearn-color-unfitted-level-3);\n",
              "}\n",
              "\n",
              ".sk-estimator-doc-link.fitted span {\n",
              "  /* fitted */\n",
              "  background: var(--sklearn-color-fitted-level-0);\n",
              "  border: var(--sklearn-color-fitted-level-3);\n",
              "}\n",
              "\n",
              ".sk-estimator-doc-link:hover span {\n",
              "  display: block;\n",
              "}\n",
              "\n",
              "/* \"?\"-specific style due to the `<a>` HTML tag */\n",
              "\n",
              "#sk-container-id-1 a.estimator_doc_link {\n",
              "  float: right;\n",
              "  font-size: 1rem;\n",
              "  line-height: 1em;\n",
              "  font-family: monospace;\n",
              "  background-color: var(--sklearn-color-background);\n",
              "  border-radius: 1rem;\n",
              "  height: 1rem;\n",
              "  width: 1rem;\n",
              "  text-decoration: none;\n",
              "  /* unfitted */\n",
              "  color: var(--sklearn-color-unfitted-level-1);\n",
              "  border: var(--sklearn-color-unfitted-level-1) 1pt solid;\n",
              "}\n",
              "\n",
              "#sk-container-id-1 a.estimator_doc_link.fitted {\n",
              "  /* fitted */\n",
              "  border: var(--sklearn-color-fitted-level-1) 1pt solid;\n",
              "  color: var(--sklearn-color-fitted-level-1);\n",
              "}\n",
              "\n",
              "/* On hover */\n",
              "#sk-container-id-1 a.estimator_doc_link:hover {\n",
              "  /* unfitted */\n",
              "  background-color: var(--sklearn-color-unfitted-level-3);\n",
              "  color: var(--sklearn-color-background);\n",
              "  text-decoration: none;\n",
              "}\n",
              "\n",
              "#sk-container-id-1 a.estimator_doc_link.fitted:hover {\n",
              "  /* fitted */\n",
              "  background-color: var(--sklearn-color-fitted-level-3);\n",
              "}\n",
              "</style><div id=\"sk-container-id-1\" class=\"sk-top-container\"><div class=\"sk-text-repr-fallback\"><pre>SVR(C=100, gamma=1e-05)</pre><b>In a Jupyter environment, please rerun this cell to show the HTML representation or trust the notebook. <br />On GitHub, the HTML representation is unable to render, please try loading this page with nbviewer.org.</b></div><div class=\"sk-container\" hidden><div class=\"sk-item\"><div class=\"sk-estimator fitted sk-toggleable\"><input class=\"sk-toggleable__control sk-hidden--visually\" id=\"sk-estimator-id-1\" type=\"checkbox\" checked><label for=\"sk-estimator-id-1\" class=\"sk-toggleable__label fitted sk-toggleable__label-arrow fitted\">&nbsp;&nbsp;SVR<a class=\"sk-estimator-doc-link fitted\" rel=\"noreferrer\" target=\"_blank\" href=\"https://scikit-learn.org/1.4/modules/generated/sklearn.svm.SVR.html\">?<span>Documentation for SVR</span></a><span class=\"sk-estimator-doc-link fitted\">i<span>Fitted</span></span></label><div class=\"sk-toggleable__content fitted\"><pre>SVR(C=100, gamma=1e-05)</pre></div> </div></div></div></div>"
            ]
          },
          "metadata": {},
          "execution_count": 64
        }
      ]
    },
    {
      "cell_type": "code",
      "source": [
        "predictions = regressor.predict(test_speed.reshape(-1, 1))\n",
        "mse = mean_squared_error(test_power, predictions)\n",
        "print(\"Mean Squared Error:\", mse)"
      ],
      "metadata": {
        "colab": {
          "base_uri": "https://localhost:8080/"
        },
        "id": "KnzyzkuQuxb9",
        "outputId": "6dfcad17-bb9b-4965-f326-ec834077d9fd"
      },
      "execution_count": null,
      "outputs": [
        {
          "output_type": "stream",
          "name": "stdout",
          "text": [
            "Mean Squared Error: 0.016821114509922214\n"
          ]
        }
      ]
    },
    {
      "cell_type": "code",
      "source": [
        "import matplotlib.pyplot as plt\n",
        "\n",
        "predictions = regressor.predict(speed_data.reshape(-1, 1))\n",
        "plt.figure(figsize=(10, 6))\n",
        "\n",
        "plt.plot(t_power, power_data, label='Real Power', color='blue')\n",
        "plt.plot(t_power, predictions, label='Predicted Power', color='red')\n",
        "\n",
        "plt.xlabel('Time')\n",
        "plt.ylabel('Power')\n",
        "plt.title('Potenza reale e predetta nel tempo')\n",
        "plt.legend()\n",
        "plt.show()\n",
        "\n",
        "plt.figure(figsize=(10, 6))\n",
        "plt.plot(t_speed, speed_data, color='green')\n",
        "plt.xlabel('Tempo')\n",
        "plt.ylabel('Velocità')\n",
        "plt.title('Velocità nel tempo')\n",
        "plt.show()\n"
      ],
      "metadata": {
        "colab": {
          "base_uri": "https://localhost:8080/",
          "height": 1000
        },
        "id": "Wb0pNMKVxG44",
        "outputId": "a23ed086-aaef-4700-d5ad-8c6081ed0708"
      },
      "execution_count": null,
      "outputs": [
        {
          "output_type": "display_data",
          "data": {
            "text/plain": [
              "<Figure size 1000x600 with 1 Axes>"
            ],
            "image/png": "[encoded data removed]"
          },
          "metadata": {}
        },
        {
          "output_type": "display_data",
          "data": {
            "text/plain": [
              "<Figure size 1000x600 with 1 Axes>"
            ],
            "image/png": "[encoded data removed]"
          },
          "metadata": {}
        }
      ]
    },
    {
      "cell_type": "code",
      "source": [],
      "metadata": {
        "colab": {
          "base_uri": "https://localhost:8080/"
        },
        "id": "dcv1Kkzsaiis",
        "outputId": "6754cd50-cf6f-48ab-f1aa-56bccd6f4a11"
      },
      "execution_count": null,
      "outputs": [
        {
          "output_type": "stream",
          "name": "stdout",
          "text": [
            "Requirement already satisfied: xgboost in /usr/local/lib/python3.10/dist-packages (2.0.3)\n",
            "Requirement already satisfied: numpy in /usr/local/lib/python3.10/dist-packages (from xgboost) (1.25.2)\n",
            "Requirement already satisfied: scipy in /usr/local/lib/python3.10/dist-packages (from xgboost) (1.13.0)\n"
          ]
        }
      ]
    },
    {
      "cell_type": "code",
      "source": [
        "from sklearn.model_selection import GridSearchCV\n",
        "from xgboost import XGBRegressor\n",
        "\n",
        "# Definizione dei parametri da cercare\n",
        "param_grid = {\n",
        "    'n_estimators': [100, 200, 300],\n",
        "    'max_depth': [3, 5, 7],\n",
        "    'learning_rate': [0.1, 0.01, 0.001]\n",
        "}\n",
        "\n",
        "# Costruzione del regressore XGBoost\n",
        "xgb_regressor = XGBRegressor()\n",
        "\n",
        "# Ricerca a griglia\n",
        "grid_search = GridSearchCV(estimator=xgb_regressor, param_grid=param_grid, scoring='neg_mean_squared_error', cv=3)\n",
        "grid_search.fit(X_train, y_train)\n",
        "\n",
        "# Stampare i migliori parametri\n",
        "print(\"Best parameters:\", grid_search.best_params_)\n",
        "\n",
        "# Valutazione del modello con i migliori parametri\n",
        "best_model = grid_search.best_estimator_\n",
        "predictions = best_model.predict(X_test)\n",
        "mse = mean_squared_error(y_test, predictions)\n",
        "print(\"Mean Squared Error:\", mse)\n"
      ],
      "metadata": {
        "colab": {
          "base_uri": "https://localhost:8080/",
          "height": 371
        },
        "id": "I_2jenoIaMcY",
        "outputId": "ccce60ee-873d-4030-a005-6c969167f15c"
      },
      "execution_count": null,
      "outputs": [
        {
          "output_type": "error",
          "ename": "KeyboardInterrupt",
          "evalue": "",
          "traceback": [
            "\u001b[0;31m---------------------------------------------------------------------------\u001b[0m",
            "\u001b[0;31mKeyboardInterrupt\u001b[0m                         Traceback (most recent call last)",
            "\u001b[0;32m<ipython-input-39-09cb1a8c06a1>\u001b[0m in \u001b[0;36m<cell line: 16>\u001b[0;34m()\u001b[0m\n\u001b[1;32m     14\u001b[0m \u001b[0;31m# Ricerca a griglia\u001b[0m\u001b[0;34m\u001b[0m\u001b[0;34m\u001b[0m\u001b[0m\n\u001b[1;32m     15\u001b[0m \u001b[0mgrid_search\u001b[0m \u001b[0;34m=\u001b[0m \u001b[0mGridSearchCV\u001b[0m\u001b[0;34m(\u001b[0m\u001b[0mestimator\u001b[0m\u001b[0;34m=\u001b[0m\u001b[0mxgb_regressor\u001b[0m\u001b[0;34m,\u001b[0m \u001b[0mparam_grid\u001b[0m\u001b[0;34m=\u001b[0m\u001b[0mparam_grid\u001b[0m\u001b[0;34m,\u001b[0m \u001b[0mscoring\u001b[0m\u001b[0;34m=\u001b[0m\u001b[0;34m'neg_mean_squared_error'\u001b[0m\u001b[0;34m,\u001b[0m \u001b[0mcv\u001b[0m\u001b[0;34m=\u001b[0m\u001b[0;36m3\u001b[0m\u001b[0;34m)\u001b[0m\u001b[0;34m\u001b[0m\u001b[0;34m\u001b[0m\u001b[0m\n\u001b[0;32m---> 16\u001b[0;31m \u001b[0mgrid_search\u001b[0m\u001b[0;34m.\u001b[0m\u001b[0mfit\u001b[0m\u001b[0;34m(\u001b[0m\u001b[0mX_train\u001b[0m\u001b[0;34m,\u001b[0m \u001b[0my_train\u001b[0m\u001b[0;34m)\u001b[0m\u001b[0;34m\u001b[0m\u001b[0;34m\u001b[0m\u001b[0m\n\u001b[0m\u001b[1;32m     17\u001b[0m \u001b[0;34m\u001b[0m\u001b[0m\n\u001b[1;32m     18\u001b[0m \u001b[0;31m# Stampare i migliori parametri\u001b[0m\u001b[0;34m\u001b[0m\u001b[0;34m\u001b[0m\u001b[0m\n",
            "\u001b[0;32m/usr/local/lib/python3.10/dist-packages/sklearn/base.py\u001b[0m in \u001b[0;36mwrapper\u001b[0;34m(estimator, *args, **kwargs)\u001b[0m\n\u001b[1;32m   1472\u001b[0m                 )\n\u001b[1;32m   1473\u001b[0m             ):\n\u001b[0;32m-> 1474\u001b[0;31m                 \u001b[0;32mreturn\u001b[0m \u001b[0mfit_method\u001b[0m\u001b[0;34m(\u001b[0m\u001b[0mestimator\u001b[0m\u001b[0;34m,\u001b[0m \u001b[0;34m*\u001b[0m\u001b[0margs\u001b[0m\u001b[0;34m,\u001b[0m \u001b[0;34m**\u001b[0m\u001b[0mkwargs\u001b[0m\u001b[0;34m)\u001b[0m\u001b[0;34m\u001b[0m\u001b[0;34m\u001b[0m\u001b[0m\n\u001b[0m\u001b[1;32m   1475\u001b[0m \u001b[0;34m\u001b[0m\u001b[0m\n\u001b[1;32m   1476\u001b[0m         \u001b[0;32mreturn\u001b[0m \u001b[0mwrapper\u001b[0m\u001b[0;34m\u001b[0m\u001b[0;34m\u001b[0m\u001b[0m\n",
            "\u001b[0;32m/usr/local/lib/python3.10/dist-packages/sklearn/model_selection/_search.py\u001b[0m in \u001b[0;36mfit\u001b[0;34m(self, X, y, **params)\u001b[0m\n\u001b[1;32m    968\u001b[0m                 \u001b[0;32mreturn\u001b[0m \u001b[0mresults\u001b[0m\u001b[0;34m\u001b[0m\u001b[0;34m\u001b[0m\u001b[0m\n\u001b[1;32m    969\u001b[0m \u001b[0;34m\u001b[0m\u001b[0m\n\u001b[0;32m--> 970\u001b[0;31m             \u001b[0mself\u001b[0m\u001b[0;34m.\u001b[0m\u001b[0m_run_search\u001b[0m\u001b[0;34m(\u001b[0m\u001b[0mevaluate_candidates\u001b[0m\u001b[0;34m)\u001b[0m\u001b[0;34m\u001b[0m\u001b[0;34m\u001b[0m\u001b[0m\n\u001b[0m\u001b[1;32m    971\u001b[0m \u001b[0;34m\u001b[0m\u001b[0m\n\u001b[1;32m    972\u001b[0m             \u001b[0;31m# multimetric is determined here because in the case of a callable\u001b[0m\u001b[0;34m\u001b[0m\u001b[0;34m\u001b[0m\u001b[0m\n",
            "\u001b[0;32m/usr/local/lib/python3.10/dist-packages/sklearn/model_selection/_search.py\u001b[0m in \u001b[0;36m_run_search\u001b[0;34m(self, evaluate_candidates)\u001b[0m\n\u001b[1;32m   1525\u001b[0m     \u001b[0;32mdef\u001b[0m \u001b[0m_run_search\u001b[0m\u001b[0;34m(\u001b[0m\u001b[0mself\u001b[0m\u001b[0;34m,\u001b[0m \u001b[0mevaluate_candidates\u001b[0m\u001b[0;34m)\u001b[0m\u001b[0;34m:\u001b[0m\u001b[0;34m\u001b[0m\u001b[0;34m\u001b[0m\u001b[0m\n\u001b[1;32m   1526\u001b[0m         \u001b[0;34m\"\"\"Search all candidates in param_grid\"\"\"\u001b[0m\u001b[0;34m\u001b[0m\u001b[0;34m\u001b[0m\u001b[0m\n\u001b[0;32m-> 1527\u001b[0;31m         \u001b[0mevaluate_candidates\u001b[0m\u001b[0;34m(\u001b[0m\u001b[0mParameterGrid\u001b[0m\u001b[0;34m(\u001b[0m\u001b[0mself\u001b[0m\u001b[0;34m.\u001b[0m\u001b[0mparam_grid\u001b[0m\u001b[0;34m)\u001b[0m\u001b[0;34m)\u001b[0m\u001b[0;34m\u001b[0m\u001b[0;34m\u001b[0m\u001b[0m\n\u001b[0m\u001b[1;32m   1528\u001b[0m \u001b[0;34m\u001b[0m\u001b[0m\n\u001b[1;32m   1529\u001b[0m \u001b[0;34m\u001b[0m\u001b[0m\n",
            "\u001b[0;32m/usr/local/lib/python3.10/dist-packages/sklearn/model_selection/_search.py\u001b[0m in \u001b[0;36mevaluate_candidates\u001b[0;34m(candidate_params, cv, more_results)\u001b[0m\n\u001b[1;32m    914\u001b[0m                     )\n\u001b[1;32m    915\u001b[0m \u001b[0;34m\u001b[0m\u001b[0m\n\u001b[0;32m--> 916\u001b[0;31m                 out = parallel(\n\u001b[0m\u001b[1;32m    917\u001b[0m                     delayed(_fit_and_score)(\n\u001b[1;32m    918\u001b[0m                         \u001b[0mclone\u001b[0m\u001b[0;34m(\u001b[0m\u001b[0mbase_estimator\u001b[0m\u001b[0;34m)\u001b[0m\u001b[0;34m,\u001b[0m\u001b[0;34m\u001b[0m\u001b[0;34m\u001b[0m\u001b[0m\n",
            "\u001b[0;32m/usr/local/lib/python3.10/dist-packages/sklearn/utils/parallel.py\u001b[0m in \u001b[0;36m__call__\u001b[0;34m(self, iterable)\u001b[0m\n\u001b[1;32m     65\u001b[0m             \u001b[0;32mfor\u001b[0m \u001b[0mdelayed_func\u001b[0m\u001b[0;34m,\u001b[0m \u001b[0margs\u001b[0m\u001b[0;34m,\u001b[0m \u001b[0mkwargs\u001b[0m \u001b[0;32min\u001b[0m \u001b[0miterable\u001b[0m\u001b[0;34m\u001b[0m\u001b[0;34m\u001b[0m\u001b[0m\n\u001b[1;32m     66\u001b[0m         )\n\u001b[0;32m---> 67\u001b[0;31m         \u001b[0;32mreturn\u001b[0m \u001b[0msuper\u001b[0m\u001b[0;34m(\u001b[0m\u001b[0;34m)\u001b[0m\u001b[0;34m.\u001b[0m\u001b[0m__call__\u001b[0m\u001b[0;34m(\u001b[0m\u001b[0miterable_with_config\u001b[0m\u001b[0;34m)\u001b[0m\u001b[0;34m\u001b[0m\u001b[0;34m\u001b[0m\u001b[0m\n\u001b[0m\u001b[1;32m     68\u001b[0m \u001b[0;34m\u001b[0m\u001b[0m\n\u001b[1;32m     69\u001b[0m \u001b[0;34m\u001b[0m\u001b[0m\n",
            "\u001b[0;32m/usr/local/lib/python3.10/dist-packages/joblib/parallel.py\u001b[0m in \u001b[0;36m__call__\u001b[0;34m(self, iterable)\u001b[0m\n\u001b[1;32m   1916\u001b[0m             \u001b[0moutput\u001b[0m \u001b[0;34m=\u001b[0m \u001b[0mself\u001b[0m\u001b[0;34m.\u001b[0m\u001b[0m_get_sequential_output\u001b[0m\u001b[0;34m(\u001b[0m\u001b[0miterable\u001b[0m\u001b[0;34m)\u001b[0m\u001b[0;34m\u001b[0m\u001b[0;34m\u001b[0m\u001b[0m\n\u001b[1;32m   1917\u001b[0m             \u001b[0mnext\u001b[0m\u001b[0;34m(\u001b[0m\u001b[0moutput\u001b[0m\u001b[0;34m)\u001b[0m\u001b[0;34m\u001b[0m\u001b[0;34m\u001b[0m\u001b[0m\n\u001b[0;32m-> 1918\u001b[0;31m             \u001b[0;32mreturn\u001b[0m \u001b[0moutput\u001b[0m \u001b[0;32mif\u001b[0m \u001b[0mself\u001b[0m\u001b[0;34m.\u001b[0m\u001b[0mreturn_generator\u001b[0m \u001b[0;32melse\u001b[0m \u001b[0mlist\u001b[0m\u001b[0;34m(\u001b[0m\u001b[0moutput\u001b[0m\u001b[0;34m)\u001b[0m\u001b[0;34m\u001b[0m\u001b[0;34m\u001b[0m\u001b[0m\n\u001b[0m\u001b[1;32m   1919\u001b[0m \u001b[0;34m\u001b[0m\u001b[0m\n\u001b[1;32m   1920\u001b[0m         \u001b[0;31m# Let's create an ID that uniquely identifies the current call. If the\u001b[0m\u001b[0;34m\u001b[0m\u001b[0;34m\u001b[0m\u001b[0m\n",
            "\u001b[0;32m/usr/local/lib/python3.10/dist-packages/joblib/parallel.py\u001b[0m in \u001b[0;36m_get_sequential_output\u001b[0;34m(self, iterable)\u001b[0m\n\u001b[1;32m   1845\u001b[0m                 \u001b[0mself\u001b[0m\u001b[0;34m.\u001b[0m\u001b[0mn_dispatched_batches\u001b[0m \u001b[0;34m+=\u001b[0m \u001b[0;36m1\u001b[0m\u001b[0;34m\u001b[0m\u001b[0;34m\u001b[0m\u001b[0m\n\u001b[1;32m   1846\u001b[0m                 \u001b[0mself\u001b[0m\u001b[0;34m.\u001b[0m\u001b[0mn_dispatched_tasks\u001b[0m \u001b[0;34m+=\u001b[0m \u001b[0;36m1\u001b[0m\u001b[0;34m\u001b[0m\u001b[0;34m\u001b[0m\u001b[0m\n\u001b[0;32m-> 1847\u001b[0;31m                 \u001b[0mres\u001b[0m \u001b[0;34m=\u001b[0m \u001b[0mfunc\u001b[0m\u001b[0;34m(\u001b[0m\u001b[0;34m*\u001b[0m\u001b[0margs\u001b[0m\u001b[0;34m,\u001b[0m \u001b[0;34m**\u001b[0m\u001b[0mkwargs\u001b[0m\u001b[0;34m)\u001b[0m\u001b[0;34m\u001b[0m\u001b[0;34m\u001b[0m\u001b[0m\n\u001b[0m\u001b[1;32m   1848\u001b[0m                 \u001b[0mself\u001b[0m\u001b[0;34m.\u001b[0m\u001b[0mn_completed_tasks\u001b[0m \u001b[0;34m+=\u001b[0m \u001b[0;36m1\u001b[0m\u001b[0;34m\u001b[0m\u001b[0;34m\u001b[0m\u001b[0m\n\u001b[1;32m   1849\u001b[0m                 \u001b[0mself\u001b[0m\u001b[0;34m.\u001b[0m\u001b[0mprint_progress\u001b[0m\u001b[0;34m(\u001b[0m\u001b[0;34m)\u001b[0m\u001b[0;34m\u001b[0m\u001b[0;34m\u001b[0m\u001b[0m\n",
            "\u001b[0;32m/usr/local/lib/python3.10/dist-packages/sklearn/utils/parallel.py\u001b[0m in \u001b[0;36m__call__\u001b[0;34m(self, *args, **kwargs)\u001b[0m\n\u001b[1;32m    127\u001b[0m             \u001b[0mconfig\u001b[0m \u001b[0;34m=\u001b[0m \u001b[0;34m{\u001b[0m\u001b[0;34m}\u001b[0m\u001b[0;34m\u001b[0m\u001b[0;34m\u001b[0m\u001b[0m\n\u001b[1;32m    128\u001b[0m         \u001b[0;32mwith\u001b[0m \u001b[0mconfig_context\u001b[0m\u001b[0;34m(\u001b[0m\u001b[0;34m**\u001b[0m\u001b[0mconfig\u001b[0m\u001b[0;34m)\u001b[0m\u001b[0;34m:\u001b[0m\u001b[0;34m\u001b[0m\u001b[0;34m\u001b[0m\u001b[0m\n\u001b[0;32m--> 129\u001b[0;31m             \u001b[0;32mreturn\u001b[0m \u001b[0mself\u001b[0m\u001b[0;34m.\u001b[0m\u001b[0mfunction\u001b[0m\u001b[0;34m(\u001b[0m\u001b[0;34m*\u001b[0m\u001b[0margs\u001b[0m\u001b[0;34m,\u001b[0m \u001b[0;34m**\u001b[0m\u001b[0mkwargs\u001b[0m\u001b[0;34m)\u001b[0m\u001b[0;34m\u001b[0m\u001b[0;34m\u001b[0m\u001b[0m\n\u001b[0m",
            "\u001b[0;32m/usr/local/lib/python3.10/dist-packages/sklearn/model_selection/_validation.py\u001b[0m in \u001b[0;36m_fit_and_score\u001b[0;34m(estimator, X, y, scorer, train, test, verbose, parameters, fit_params, score_params, return_train_score, return_parameters, return_n_test_samples, return_times, return_estimator, split_progress, candidate_progress, error_score)\u001b[0m\n\u001b[1;32m    893\u001b[0m             \u001b[0mestimator\u001b[0m\u001b[0;34m.\u001b[0m\u001b[0mfit\u001b[0m\u001b[0;34m(\u001b[0m\u001b[0mX_train\u001b[0m\u001b[0;34m,\u001b[0m \u001b[0;34m**\u001b[0m\u001b[0mfit_params\u001b[0m\u001b[0;34m)\u001b[0m\u001b[0;34m\u001b[0m\u001b[0;34m\u001b[0m\u001b[0m\n\u001b[1;32m    894\u001b[0m         \u001b[0;32melse\u001b[0m\u001b[0;34m:\u001b[0m\u001b[0;34m\u001b[0m\u001b[0;34m\u001b[0m\u001b[0m\n\u001b[0;32m--> 895\u001b[0;31m             \u001b[0mestimator\u001b[0m\u001b[0;34m.\u001b[0m\u001b[0mfit\u001b[0m\u001b[0;34m(\u001b[0m\u001b[0mX_train\u001b[0m\u001b[0;34m,\u001b[0m \u001b[0my_train\u001b[0m\u001b[0;34m,\u001b[0m \u001b[0;34m**\u001b[0m\u001b[0mfit_params\u001b[0m\u001b[0;34m)\u001b[0m\u001b[0;34m\u001b[0m\u001b[0;34m\u001b[0m\u001b[0m\n\u001b[0m\u001b[1;32m    896\u001b[0m \u001b[0;34m\u001b[0m\u001b[0m\n\u001b[1;32m    897\u001b[0m     \u001b[0;32mexcept\u001b[0m \u001b[0mException\u001b[0m\u001b[0;34m:\u001b[0m\u001b[0;34m\u001b[0m\u001b[0;34m\u001b[0m\u001b[0m\n",
            "\u001b[0;32m/usr/local/lib/python3.10/dist-packages/xgboost/core.py\u001b[0m in \u001b[0;36minner_f\u001b[0;34m(*args, **kwargs)\u001b[0m\n\u001b[1;32m    728\u001b[0m             \u001b[0;32mfor\u001b[0m \u001b[0mk\u001b[0m\u001b[0;34m,\u001b[0m \u001b[0marg\u001b[0m \u001b[0;32min\u001b[0m \u001b[0mzip\u001b[0m\u001b[0;34m(\u001b[0m\u001b[0msig\u001b[0m\u001b[0;34m.\u001b[0m\u001b[0mparameters\u001b[0m\u001b[0;34m,\u001b[0m \u001b[0margs\u001b[0m\u001b[0;34m)\u001b[0m\u001b[0;34m:\u001b[0m\u001b[0;34m\u001b[0m\u001b[0;34m\u001b[0m\u001b[0m\n\u001b[1;32m    729\u001b[0m                 \u001b[0mkwargs\u001b[0m\u001b[0;34m[\u001b[0m\u001b[0mk\u001b[0m\u001b[0;34m]\u001b[0m \u001b[0;34m=\u001b[0m \u001b[0marg\u001b[0m\u001b[0;34m\u001b[0m\u001b[0;34m\u001b[0m\u001b[0m\n\u001b[0;32m--> 730\u001b[0;31m             \u001b[0;32mreturn\u001b[0m \u001b[0mfunc\u001b[0m\u001b[0;34m(\u001b[0m\u001b[0;34m**\u001b[0m\u001b[0mkwargs\u001b[0m\u001b[0;34m)\u001b[0m\u001b[0;34m\u001b[0m\u001b[0;34m\u001b[0m\u001b[0m\n\u001b[0m\u001b[1;32m    731\u001b[0m \u001b[0;34m\u001b[0m\u001b[0m\n\u001b[1;32m    732\u001b[0m         \u001b[0;32mreturn\u001b[0m \u001b[0minner_f\u001b[0m\u001b[0;34m\u001b[0m\u001b[0;34m\u001b[0m\u001b[0m\n",
            "\u001b[0;32m/usr/local/lib/python3.10/dist-packages/xgboost/sklearn.py\u001b[0m in \u001b[0;36mfit\u001b[0;34m(self, X, y, sample_weight, base_margin, eval_set, eval_metric, early_stopping_rounds, verbose, xgb_model, sample_weight_eval_set, base_margin_eval_set, feature_weights, callbacks)\u001b[0m\n\u001b[1;32m   1088\u001b[0m                 \u001b[0mxgb_model\u001b[0m\u001b[0;34m,\u001b[0m \u001b[0meval_metric\u001b[0m\u001b[0;34m,\u001b[0m \u001b[0mparams\u001b[0m\u001b[0;34m,\u001b[0m \u001b[0mearly_stopping_rounds\u001b[0m\u001b[0;34m,\u001b[0m \u001b[0mcallbacks\u001b[0m\u001b[0;34m\u001b[0m\u001b[0;34m\u001b[0m\u001b[0m\n\u001b[1;32m   1089\u001b[0m             )\n\u001b[0;32m-> 1090\u001b[0;31m             self._Booster = train(\n\u001b[0m\u001b[1;32m   1091\u001b[0m                 \u001b[0mparams\u001b[0m\u001b[0;34m,\u001b[0m\u001b[0;34m\u001b[0m\u001b[0;34m\u001b[0m\u001b[0m\n\u001b[1;32m   1092\u001b[0m                 \u001b[0mtrain_dmatrix\u001b[0m\u001b[0;34m,\u001b[0m\u001b[0;34m\u001b[0m\u001b[0;34m\u001b[0m\u001b[0m\n",
            "\u001b[0;32m/usr/local/lib/python3.10/dist-packages/xgboost/core.py\u001b[0m in \u001b[0;36minner_f\u001b[0;34m(*args, **kwargs)\u001b[0m\n\u001b[1;32m    728\u001b[0m             \u001b[0;32mfor\u001b[0m \u001b[0mk\u001b[0m\u001b[0;34m,\u001b[0m \u001b[0marg\u001b[0m \u001b[0;32min\u001b[0m \u001b[0mzip\u001b[0m\u001b[0;34m(\u001b[0m\u001b[0msig\u001b[0m\u001b[0;34m.\u001b[0m\u001b[0mparameters\u001b[0m\u001b[0;34m,\u001b[0m \u001b[0margs\u001b[0m\u001b[0;34m)\u001b[0m\u001b[0;34m:\u001b[0m\u001b[0;34m\u001b[0m\u001b[0;34m\u001b[0m\u001b[0m\n\u001b[1;32m    729\u001b[0m                 \u001b[0mkwargs\u001b[0m\u001b[0;34m[\u001b[0m\u001b[0mk\u001b[0m\u001b[0;34m]\u001b[0m \u001b[0;34m=\u001b[0m \u001b[0marg\u001b[0m\u001b[0;34m\u001b[0m\u001b[0;34m\u001b[0m\u001b[0m\n\u001b[0;32m--> 730\u001b[0;31m             \u001b[0;32mreturn\u001b[0m \u001b[0mfunc\u001b[0m\u001b[0;34m(\u001b[0m\u001b[0;34m**\u001b[0m\u001b[0mkwargs\u001b[0m\u001b[0;34m)\u001b[0m\u001b[0;34m\u001b[0m\u001b[0;34m\u001b[0m\u001b[0m\n\u001b[0m\u001b[1;32m    731\u001b[0m \u001b[0;34m\u001b[0m\u001b[0m\n\u001b[1;32m    732\u001b[0m         \u001b[0;32mreturn\u001b[0m \u001b[0minner_f\u001b[0m\u001b[0;34m\u001b[0m\u001b[0;34m\u001b[0m\u001b[0m\n",
            "\u001b[0;32m/usr/local/lib/python3.10/dist-packages/xgboost/training.py\u001b[0m in \u001b[0;36mtrain\u001b[0;34m(params, dtrain, num_boost_round, evals, obj, feval, maximize, early_stopping_rounds, evals_result, verbose_eval, xgb_model, callbacks, custom_metric)\u001b[0m\n\u001b[1;32m    179\u001b[0m         \u001b[0;32mif\u001b[0m \u001b[0mcb_container\u001b[0m\u001b[0;34m.\u001b[0m\u001b[0mbefore_iteration\u001b[0m\u001b[0;34m(\u001b[0m\u001b[0mbst\u001b[0m\u001b[0;34m,\u001b[0m \u001b[0mi\u001b[0m\u001b[0;34m,\u001b[0m \u001b[0mdtrain\u001b[0m\u001b[0;34m,\u001b[0m \u001b[0mevals\u001b[0m\u001b[0;34m)\u001b[0m\u001b[0;34m:\u001b[0m\u001b[0;34m\u001b[0m\u001b[0;34m\u001b[0m\u001b[0m\n\u001b[1;32m    180\u001b[0m             \u001b[0;32mbreak\u001b[0m\u001b[0;34m\u001b[0m\u001b[0;34m\u001b[0m\u001b[0m\n\u001b[0;32m--> 181\u001b[0;31m         \u001b[0mbst\u001b[0m\u001b[0;34m.\u001b[0m\u001b[0mupdate\u001b[0m\u001b[0;34m(\u001b[0m\u001b[0mdtrain\u001b[0m\u001b[0;34m,\u001b[0m \u001b[0mi\u001b[0m\u001b[0;34m,\u001b[0m \u001b[0mobj\u001b[0m\u001b[0;34m)\u001b[0m\u001b[0;34m\u001b[0m\u001b[0;34m\u001b[0m\u001b[0m\n\u001b[0m\u001b[1;32m    182\u001b[0m         \u001b[0;32mif\u001b[0m \u001b[0mcb_container\u001b[0m\u001b[0;34m.\u001b[0m\u001b[0mafter_iteration\u001b[0m\u001b[0;34m(\u001b[0m\u001b[0mbst\u001b[0m\u001b[0;34m,\u001b[0m \u001b[0mi\u001b[0m\u001b[0;34m,\u001b[0m \u001b[0mdtrain\u001b[0m\u001b[0;34m,\u001b[0m \u001b[0mevals\u001b[0m\u001b[0;34m)\u001b[0m\u001b[0;34m:\u001b[0m\u001b[0;34m\u001b[0m\u001b[0;34m\u001b[0m\u001b[0m\n\u001b[1;32m    183\u001b[0m             \u001b[0;32mbreak\u001b[0m\u001b[0;34m\u001b[0m\u001b[0;34m\u001b[0m\u001b[0m\n",
            "\u001b[0;32m/usr/local/lib/python3.10/dist-packages/xgboost/core.py\u001b[0m in \u001b[0;36mupdate\u001b[0;34m(self, dtrain, iteration, fobj)\u001b[0m\n\u001b[1;32m   2049\u001b[0m         \u001b[0;32mif\u001b[0m \u001b[0mfobj\u001b[0m \u001b[0;32mis\u001b[0m \u001b[0;32mNone\u001b[0m\u001b[0;34m:\u001b[0m\u001b[0;34m\u001b[0m\u001b[0;34m\u001b[0m\u001b[0m\n\u001b[1;32m   2050\u001b[0m             _check_call(\n\u001b[0;32m-> 2051\u001b[0;31m                 _LIB.XGBoosterUpdateOneIter(\n\u001b[0m\u001b[1;32m   2052\u001b[0m                     \u001b[0mself\u001b[0m\u001b[0;34m.\u001b[0m\u001b[0mhandle\u001b[0m\u001b[0;34m,\u001b[0m \u001b[0mctypes\u001b[0m\u001b[0;34m.\u001b[0m\u001b[0mc_int\u001b[0m\u001b[0;34m(\u001b[0m\u001b[0miteration\u001b[0m\u001b[0;34m)\u001b[0m\u001b[0;34m,\u001b[0m \u001b[0mdtrain\u001b[0m\u001b[0;34m.\u001b[0m\u001b[0mhandle\u001b[0m\u001b[0;34m\u001b[0m\u001b[0;34m\u001b[0m\u001b[0m\n\u001b[1;32m   2053\u001b[0m                 )\n",
            "\u001b[0;31mKeyboardInterrupt\u001b[0m: "
          ]
        }
      ]
    },
    {
      "cell_type": "markdown",
      "source": [
        "##Implementazione rete neurali"
      ],
      "metadata": {
        "id": "WXVjkq9E5FO-"
      }
    },
    {
      "cell_type": "code",
      "source": [
        "max_length = max(max(len(segment) for segment in speed_segments),\n",
        "                 max(len(segment) for segment in power_segments))\n",
        "\n",
        "# Funzione per effettuare il padding delle sequenze con zeri\n",
        "def pad_sequences(sequences, max_length):\n",
        "    padded_sequences = []\n",
        "    for sequence in sequences:\n",
        "        # Calcola il numero di zeri da aggiungere\n",
        "        num_zeros = max_length - len(sequence)\n",
        "        # Effettua il padding con zeri\n",
        "        padded_sequence = np.pad(sequence, (0, num_zeros), 'constant')\n",
        "        padded_sequences.append(padded_sequence)\n",
        "    return padded_sequences\n",
        "\n",
        "# Applica il padding alle sequenze di velocità e potenza\n",
        "X_padded = pad_sequences(speed_segments, max_length)\n",
        "y_padded = pad_sequences(power_segments, max_length)\n",
        "\n",
        "# Converti le liste di segmenti di velocità e potenza in array numpy\n",
        "X = np.array(X_padded)\n",
        "y = np.array(y_padded)"
      ],
      "metadata": {
        "id": "pMAlOS_R_VLf"
      },
      "execution_count": null,
      "outputs": []
    },
    {
      "cell_type": "code",
      "source": [
        "from sklearn.model_selection import train_test_split\n",
        "X_train, X_test, y_train, y_test = train_test_split(X, y, test_size=0.2, random_state=42)"
      ],
      "metadata": {
        "id": "IktiSIsI_ymg"
      },
      "execution_count": null,
      "outputs": []
    },
    {
      "cell_type": "markdown",
      "source": [
        "###LSTM simple"
      ],
      "metadata": {
        "id": "GO_d8tSDDTqG"
      }
    },
    {
      "cell_type": "code",
      "source": [
        "import numpy as np\n",
        "import tensorflow as tf\n",
        "from tensorflow.keras.models import Sequential\n",
        "from tensorflow.keras.layers import LSTM, Dense\n",
        "from tensorflow.keras.layers import TimeDistributed\n",
        "\n",
        "model = Sequential([\n",
        "    LSTM(units=64, input_shape=(X_train.shape[1], 1), return_sequences=True),  # Return_sequences=True per ottenere output per ogni passo temporale\n",
        "    TimeDistributed(Dense(units=1))  # Output per ogni passo temporale\n",
        "])\n",
        "\n",
        "\n",
        "# Compilazione del modello\n",
        "model.compile(optimizer='adam', loss='mse')\n",
        "\n",
        "# Addestramento del modello\n",
        "model.fit(X_train, y_train, epochs=10, batch_size=32)\n"
      ],
      "metadata": {
        "colab": {
          "base_uri": "https://localhost:8080/"
        },
        "id": "Ctdj70oP-jM8",
        "outputId": "2d315a2f-c4a5-4ef4-adcf-019f076629da"
      },
      "execution_count": null,
      "outputs": [
        {
          "output_type": "stream",
          "name": "stdout",
          "text": [
            "Epoch 1/10\n",
            "1/1 [==============================] - 6s 6s/step - loss: 0.0244\n",
            "Epoch 2/10\n",
            "1/1 [==============================] - 0s 94ms/step - loss: 0.0174\n",
            "Epoch 3/10\n",
            "1/1 [==============================] - 0s 100ms/step - loss: 0.0152\n",
            "Epoch 4/10\n",
            "1/1 [==============================] - 0s 94ms/step - loss: 0.0154\n",
            "Epoch 5/10\n",
            "1/1 [==============================] - 0s 69ms/step - loss: 0.0147\n",
            "Epoch 6/10\n",
            "1/1 [==============================] - 0s 90ms/step - loss: 0.0140\n",
            "Epoch 7/10\n",
            "1/1 [==============================] - 0s 85ms/step - loss: 0.0138\n",
            "Epoch 8/10\n",
            "1/1 [==============================] - 0s 99ms/step - loss: 0.0140\n",
            "Epoch 9/10\n",
            "1/1 [==============================] - 0s 80ms/step - loss: 0.0139\n",
            "Epoch 10/10\n",
            "1/1 [==============================] - 0s 87ms/step - loss: 0.0146\n"
          ]
        },
        {
          "output_type": "execute_result",
          "data": {
            "text/plain": [
              "<keras.src.callbacks.History at 0x7d8d836437c0>"
            ]
          },
          "metadata": {},
          "execution_count": 82
        }
      ]
    },
    {
      "cell_type": "code",
      "source": [
        "from sklearn.metrics import mean_squared_error, mean_absolute_error, r2_score\n",
        "\n",
        "predictions = model.predict(X_test)\n",
        "predictions_reshaped = predictions.reshape(-1, predictions.shape[1])\n",
        "\n",
        "# Calcola le metriche di valutazione\n",
        "mse = mean_squared_error(y_test, predictions_reshaped)\n",
        "rmse = np.sqrt(mse)\n",
        "mae = mean_absolute_error(y_test, predictions_reshaped)\n",
        "r2 = r2_score(y_test, predictions_reshaped)\n",
        "\n",
        "print(\"Mean Squared Error (MSE):\", mse)\n",
        "print(\"Root Mean Squared Error (RMSE):\", rmse)\n",
        "print(\"Mean Absolute Error (MAE):\", mae)"
      ],
      "metadata": {
        "colab": {
          "base_uri": "https://localhost:8080/"
        },
        "id": "KsLSRJcu_-sk",
        "outputId": "186a25a1-6cff-417e-b368-479697b562ff"
      },
      "execution_count": null,
      "outputs": [
        {
          "output_type": "stream",
          "name": "stdout",
          "text": [
            "1/1 [==============================] - 0s 26ms/step\n",
            "Mean Squared Error (MSE): 0.12054400260682152\n",
            "Root Mean Squared Error (RMSE): 0.3471944737561667\n",
            "Mean Absolute Error (MAE): 0.30668546851920775\n"
          ]
        },
        {
          "output_type": "stream",
          "name": "stderr",
          "text": [
            "/usr/local/lib/python3.10/dist-packages/sklearn/metrics/_regression.py:918: UndefinedMetricWarning: R^2 score is not well-defined with less than two samples.\n",
            "  warnings.warn(msg, UndefinedMetricWarning)\n"
          ]
        }
      ]
    },
    {
      "cell_type": "code",
      "source": [
        "import matplotlib.pyplot as plt\n",
        "\n",
        "# Numero di segmenti\n",
        "num_segments = len(X_test)\n",
        "\n",
        "# Ciclo attraverso ogni segmento\n",
        "for i in range(num_segments):\n",
        "    # Estrai il segmento di velocità, potenza reale e potenza predetta\n",
        "    speed_segment = X_test[i]\n",
        "    true_power_segment = y_test[i]\n",
        "    predicted_power_segment = predictions_reshaped[i]\n",
        "\n",
        "    # Plot del segmento di velocità\n",
        "    plt.figure(figsize=(10, 5))\n",
        "    plt.subplot(2, 1, 1)\n",
        "    plt.plot(speed_segment, label='Velocità')\n",
        "    plt.title(f'Segmento {i+1}')\n",
        "    plt.xlabel('Campione')\n",
        "    plt.ylabel('Velocità')\n",
        "    plt.legend()\n",
        "\n",
        "    # Plot del segmento di potenza\n",
        "    plt.subplot(2, 1, 2)\n",
        "    plt.plot(true_power_segment, label='Potenza Reale', linestyle='--')\n",
        "    plt.plot(predicted_power_segment, label='Potenza Predetta', linestyle='-.')\n",
        "    plt.xlabel('Campione')\n",
        "    plt.ylabel('Potenza')\n",
        "    plt.legend()\n",
        "\n",
        "    plt.tight_layout()\n",
        "    plt.show()\n"
      ],
      "metadata": {
        "colab": {
          "base_uri": "https://localhost:8080/",
          "height": 507
        },
        "id": "F8XOetqiCXor",
        "outputId": "314fe4b0-4900-4235-e472-23da2193d99e"
      },
      "execution_count": null,
      "outputs": [
        {
          "output_type": "display_data",
          "data": {
            "text/plain": [
              "<Figure size 1000x500 with 2 Axes>"
            ],
            "image/png": "[encoded data removed]"
          },
          "metadata": {}
        }
      ]
    },
    {
      "cell_type": "markdown",
      "source": [
        "###LSTM complex"
      ],
      "metadata": {
        "id": "6SVCzezlDXZN"
      }
    },
    {
      "cell_type": "code",
      "source": [
        "from tensorflow.keras.models import Sequential\n",
        "from tensorflow.keras.layers import LSTM, Dense, Dropout, TimeDistributed\n",
        "from tensorflow.keras import regularizers\n",
        "\n",
        "def build_lstm_model(input_shape):\n",
        "    units = 64\n",
        "    dropout_rate = 0.2\n",
        "    kernel_regularizer = regularizers.l2(0.01)\n",
        "\n",
        "    model = Sequential([\n",
        "        LSTM(units=units, input_shape=input_shape, return_sequences=True, dropout=dropout_rate, recurrent_dropout=dropout_rate),\n",
        "        LSTM(units=units, return_sequences=True, dropout=dropout_rate, recurrent_dropout=dropout_rate),\n",
        "        Dense(units=units, activation='relu', kernel_regularizer=kernel_regularizer),\n",
        "        Dropout(dropout_rate),\n",
        "        TimeDistributed(Dense(units=1))\n",
        "    ])\n",
        "    return model\n",
        "\n",
        "# Costruzione del modello LSTM con parametri fissi\n",
        "model = build_lstm_model(input_shape=(X_train.shape[1], 1))\n"
      ],
      "metadata": {
        "id": "8Cua1QB7DbBL"
      },
      "execution_count": null,
      "outputs": []
    },
    {
      "cell_type": "code",
      "source": [
        "model.compile(optimizer='adam', loss='mean_squared_error')\n",
        "\n",
        "history = model.fit(X_train, y_train, batch_size=64, epochs=100, validation_split=0.2)\n",
        "\n",
        "mse = model.evaluate(X_test, y_test)\n",
        "print(\"Mean Squared Error:\", mse)\n"
      ],
      "metadata": {
        "colab": {
          "base_uri": "https://localhost:8080/"
        },
        "id": "VnRcEt8CYD15",
        "outputId": "45396c09-c91d-44a3-fd85-afeeb075970f"
      },
      "execution_count": null,
      "outputs": [
        {
          "output_type": "stream",
          "name": "stdout",
          "text": [
            "Epoch 1/100\n",
            "\u001b[1m1/1\u001b[0m \u001b[32m━━━━━━━━━━━━━━━━━━━━\u001b[0m\u001b[37m\u001b[0m \u001b[1m12s\u001b[0m 12s/step - loss: 0.9540 - val_loss: 1.0836\n",
            "Epoch 2/100\n",
            "\u001b[1m1/1\u001b[0m \u001b[32m━━━━━━━━━━━━━━━━━━━━\u001b[0m\u001b[37m\u001b[0m \u001b[1m0s\u001b[0m 126ms/step - loss: 0.9713 - val_loss: 0.9429\n",
            "Epoch 3/100\n",
            "\u001b[1m1/1\u001b[0m \u001b[32m━━━━━━━━━━━━━━━━━━━━\u001b[0m\u001b[37m\u001b[0m \u001b[1m0s\u001b[0m 136ms/step - loss: 0.8757 - val_loss: 0.8563\n",
            "Epoch 4/100\n",
            "\u001b[1m1/1\u001b[0m \u001b[32m━━━━━━━━━━━━━━━━━━━━\u001b[0m\u001b[37m\u001b[0m \u001b[1m0s\u001b[0m 136ms/step - loss: 0.8023 - val_loss: 0.7765\n",
            "Epoch 5/100\n",
            "\u001b[1m1/1\u001b[0m \u001b[32m━━━━━━━━━━━━━━━━━━━━\u001b[0m\u001b[37m\u001b[0m \u001b[1m0s\u001b[0m 136ms/step - loss: 0.7870 - val_loss: 0.7067\n",
            "Epoch 6/100\n",
            "\u001b[1m1/1\u001b[0m \u001b[32m━━━━━━━━━━━━━━━━━━━━\u001b[0m\u001b[37m\u001b[0m \u001b[1m0s\u001b[0m 129ms/step - loss: 0.7553 - val_loss: 0.6516\n",
            "Epoch 7/100\n",
            "\u001b[1m1/1\u001b[0m \u001b[32m━━━━━━━━━━━━━━━━━━━━\u001b[0m\u001b[37m\u001b[0m \u001b[1m0s\u001b[0m 124ms/step - loss: 0.7529 - val_loss: 0.6168\n",
            "Epoch 8/100\n",
            "\u001b[1m1/1\u001b[0m \u001b[32m━━━━━━━━━━━━━━━━━━━━\u001b[0m\u001b[37m\u001b[0m \u001b[1m0s\u001b[0m 139ms/step - loss: 0.7604 - val_loss: 0.6042\n",
            "Epoch 9/100\n",
            "\u001b[1m1/1\u001b[0m \u001b[32m━━━━━━━━━━━━━━━━━━━━\u001b[0m\u001b[37m\u001b[0m \u001b[1m0s\u001b[0m 143ms/step - loss: 0.6439 - val_loss: 0.6040\n",
            "Epoch 10/100\n",
            "\u001b[1m1/1\u001b[0m \u001b[32m━━━━━━━━━━━━━━━━━━━━\u001b[0m\u001b[37m\u001b[0m \u001b[1m0s\u001b[0m 120ms/step - loss: 0.7130 - val_loss: 0.6130\n",
            "Epoch 11/100\n",
            "\u001b[1m1/1\u001b[0m \u001b[32m━━━━━━━━━━━━━━━━━━━━\u001b[0m\u001b[37m\u001b[0m \u001b[1m0s\u001b[0m 147ms/step - loss: 0.6582 - val_loss: 0.6156\n",
            "Epoch 12/100\n",
            "\u001b[1m1/1\u001b[0m \u001b[32m━━━━━━━━━━━━━━━━━━━━\u001b[0m\u001b[37m\u001b[0m \u001b[1m0s\u001b[0m 126ms/step - loss: 0.7383 - val_loss: 0.6201\n",
            "Epoch 13/100\n",
            "\u001b[1m1/1\u001b[0m \u001b[32m━━━━━━━━━━━━━━━━━━━━\u001b[0m\u001b[37m\u001b[0m \u001b[1m0s\u001b[0m 125ms/step - loss: 0.6302 - val_loss: 0.6226\n",
            "Epoch 14/100\n",
            "\u001b[1m1/1\u001b[0m \u001b[32m━━━━━━━━━━━━━━━━━━━━\u001b[0m\u001b[37m\u001b[0m \u001b[1m0s\u001b[0m 140ms/step - loss: 0.6736 - val_loss: 0.6245\n",
            "Epoch 15/100\n",
            "\u001b[1m1/1\u001b[0m \u001b[32m━━━━━━━━━━━━━━━━━━━━\u001b[0m\u001b[37m\u001b[0m \u001b[1m0s\u001b[0m 134ms/step - loss: 0.6708 - val_loss: 0.6145\n",
            "Epoch 16/100\n",
            "\u001b[1m1/1\u001b[0m \u001b[32m━━━━━━━━━━━━━━━━━━━━\u001b[0m\u001b[37m\u001b[0m \u001b[1m0s\u001b[0m 130ms/step - loss: 0.6428 - val_loss: 0.5975\n",
            "Epoch 17/100\n",
            "\u001b[1m1/1\u001b[0m \u001b[32m━━━━━━━━━━━━━━━━━━━━\u001b[0m\u001b[37m\u001b[0m \u001b[1m0s\u001b[0m 143ms/step - loss: 0.6327 - val_loss: 0.5725\n",
            "Epoch 18/100\n",
            "\u001b[1m1/1\u001b[0m \u001b[32m━━━━━━━━━━━━━━━━━━━━\u001b[0m\u001b[37m\u001b[0m \u001b[1m0s\u001b[0m 145ms/step - loss: 0.6161 - val_loss: 0.5592\n",
            "Epoch 19/100\n",
            "\u001b[1m1/1\u001b[0m \u001b[32m━━━━━━━━━━━━━━━━━━━━\u001b[0m\u001b[37m\u001b[0m \u001b[1m0s\u001b[0m 291ms/step - loss: 0.6017 - val_loss: 0.5471\n",
            "Epoch 20/100\n",
            "\u001b[1m1/1\u001b[0m \u001b[32m━━━━━━━━━━━━━━━━━━━━\u001b[0m\u001b[37m\u001b[0m \u001b[1m0s\u001b[0m 123ms/step - loss: 0.7283 - val_loss: 0.5380\n",
            "Epoch 21/100\n",
            "\u001b[1m1/1\u001b[0m \u001b[32m━━━━━━━━━━━━━━━━━━━━\u001b[0m\u001b[37m\u001b[0m \u001b[1m0s\u001b[0m 145ms/step - loss: 0.5798 - val_loss: 0.5308\n",
            "Epoch 22/100\n",
            "\u001b[1m1/1\u001b[0m \u001b[32m━━━━━━━━━━━━━━━━━━━━\u001b[0m\u001b[37m\u001b[0m \u001b[1m0s\u001b[0m 142ms/step - loss: 0.6539 - val_loss: 0.5271\n",
            "Epoch 23/100\n",
            "\u001b[1m1/1\u001b[0m \u001b[32m━━━━━━━━━━━━━━━━━━━━\u001b[0m\u001b[37m\u001b[0m \u001b[1m0s\u001b[0m 125ms/step - loss: 0.5502 - val_loss: 0.5211\n",
            "Epoch 24/100\n",
            "\u001b[1m1/1\u001b[0m \u001b[32m━━━━━━━━━━━━━━━━━━━━\u001b[0m\u001b[37m\u001b[0m \u001b[1m0s\u001b[0m 135ms/step - loss: 0.5670 - val_loss: 0.5152\n",
            "Epoch 25/100\n",
            "\u001b[1m1/1\u001b[0m \u001b[32m━━━━━━━━━━━━━━━━━━━━\u001b[0m\u001b[37m\u001b[0m \u001b[1m0s\u001b[0m 131ms/step - loss: 0.5948 - val_loss: 0.5098\n",
            "Epoch 26/100\n",
            "\u001b[1m1/1\u001b[0m \u001b[32m━━━━━━━━━━━━━━━━━━━━\u001b[0m\u001b[37m\u001b[0m \u001b[1m0s\u001b[0m 126ms/step - loss: 0.5611 - val_loss: 0.5043\n",
            "Epoch 27/100\n",
            "\u001b[1m1/1\u001b[0m \u001b[32m━━━━━━━━━━━━━━━━━━━━\u001b[0m\u001b[37m\u001b[0m \u001b[1m0s\u001b[0m 137ms/step - loss: 0.5848 - val_loss: 0.4995\n",
            "Epoch 28/100\n",
            "\u001b[1m1/1\u001b[0m \u001b[32m━━━━━━━━━━━━━━━━━━━━\u001b[0m\u001b[37m\u001b[0m \u001b[1m0s\u001b[0m 142ms/step - loss: 0.5194 - val_loss: 0.4951\n",
            "Epoch 29/100\n",
            "\u001b[1m1/1\u001b[0m \u001b[32m━━━━━━━━━━━━━━━━━━━━\u001b[0m\u001b[37m\u001b[0m \u001b[1m0s\u001b[0m 134ms/step - loss: 0.5518 - val_loss: 0.4913\n",
            "Epoch 30/100\n",
            "\u001b[1m1/1\u001b[0m \u001b[32m━━━━━━━━━━━━━━━━━━━━\u001b[0m\u001b[37m\u001b[0m \u001b[1m0s\u001b[0m 127ms/step - loss: 0.6094 - val_loss: 0.4870\n",
            "Epoch 31/100\n",
            "\u001b[1m1/1\u001b[0m \u001b[32m━━━━━━━━━━━━━━━━━━━━\u001b[0m\u001b[37m\u001b[0m \u001b[1m0s\u001b[0m 143ms/step - loss: 0.5176 - val_loss: 0.4822\n",
            "Epoch 32/100\n",
            "\u001b[1m1/1\u001b[0m \u001b[32m━━━━━━━━━━━━━━━━━━━━\u001b[0m\u001b[37m\u001b[0m \u001b[1m0s\u001b[0m 230ms/step - loss: 0.5021 - val_loss: 0.4775\n",
            "Epoch 33/100\n",
            "\u001b[1m1/1\u001b[0m \u001b[32m━━━━━━━━━━━━━━━━━━━━\u001b[0m\u001b[37m\u001b[0m \u001b[1m0s\u001b[0m 290ms/step - loss: 0.5065 - val_loss: 0.4736\n",
            "Epoch 34/100\n",
            "\u001b[1m1/1\u001b[0m \u001b[32m━━━━━━━━━━━━━━━━━━━━\u001b[0m\u001b[37m\u001b[0m \u001b[1m0s\u001b[0m 194ms/step - loss: 0.5886 - val_loss: 0.4678\n",
            "Epoch 35/100\n",
            "\u001b[1m1/1\u001b[0m \u001b[32m━━━━━━━━━━━━━━━━━━━━\u001b[0m\u001b[37m\u001b[0m \u001b[1m0s\u001b[0m 386ms/step - loss: 0.5242 - val_loss: 0.4623\n",
            "Epoch 36/100\n",
            "\u001b[1m1/1\u001b[0m \u001b[32m━━━━━━━━━━━━━━━━━━━━\u001b[0m\u001b[37m\u001b[0m \u001b[1m0s\u001b[0m 279ms/step - loss: 0.5282 - val_loss: 0.4572\n",
            "Epoch 37/100\n",
            "\u001b[1m1/1\u001b[0m \u001b[32m━━━━━━━━━━━━━━━━━━━━\u001b[0m\u001b[37m\u001b[0m \u001b[1m0s\u001b[0m 204ms/step - loss: 0.5687 - val_loss: 0.4514\n",
            "Epoch 38/100\n",
            "\u001b[1m1/1\u001b[0m \u001b[32m━━━━━━━━━━━━━━━━━━━━\u001b[0m\u001b[37m\u001b[0m \u001b[1m0s\u001b[0m 236ms/step - loss: 0.5126 - val_loss: 0.4460\n",
            "Epoch 39/100\n",
            "\u001b[1m1/1\u001b[0m \u001b[32m━━━━━━━━━━━━━━━━━━━━\u001b[0m\u001b[37m\u001b[0m \u001b[1m0s\u001b[0m 290ms/step - loss: 0.4752 - val_loss: 0.4410\n",
            "Epoch 40/100\n",
            "\u001b[1m1/1\u001b[0m \u001b[32m━━━━━━━━━━━━━━━━━━━━\u001b[0m\u001b[37m\u001b[0m \u001b[1m0s\u001b[0m 198ms/step - loss: 0.4702 - val_loss: 0.4363\n",
            "Epoch 41/100\n",
            "\u001b[1m1/1\u001b[0m \u001b[32m━━━━━━━━━━━━━━━━━━━━\u001b[0m\u001b[37m\u001b[0m \u001b[1m0s\u001b[0m 289ms/step - loss: 0.4542 - val_loss: 0.4316\n",
            "Epoch 42/100\n",
            "\u001b[1m1/1\u001b[0m \u001b[32m━━━━━━━━━━━━━━━━━━━━\u001b[0m\u001b[37m\u001b[0m \u001b[1m0s\u001b[0m 191ms/step - loss: 0.5394 - val_loss: 0.4274\n",
            "Epoch 43/100\n",
            "\u001b[1m1/1\u001b[0m \u001b[32m━━━━━━━━━━━━━━━━━━━━\u001b[0m\u001b[37m\u001b[0m \u001b[1m0s\u001b[0m 201ms/step - loss: 0.4620 - val_loss: 0.4230\n",
            "Epoch 44/100\n",
            "\u001b[1m1/1\u001b[0m \u001b[32m━━━━━━━━━━━━━━━━━━━━\u001b[0m\u001b[37m\u001b[0m \u001b[1m0s\u001b[0m 226ms/step - loss: 0.4681 - val_loss: 0.4185\n",
            "Epoch 45/100\n",
            "\u001b[1m1/1\u001b[0m \u001b[32m━━━━━━━━━━━━━━━━━━━━\u001b[0m\u001b[37m\u001b[0m \u001b[1m0s\u001b[0m 206ms/step - loss: 0.4801 - val_loss: 0.4143\n",
            "Epoch 46/100\n",
            "\u001b[1m1/1\u001b[0m \u001b[32m━━━━━━━━━━━━━━━━━━━━\u001b[0m\u001b[37m\u001b[0m \u001b[1m0s\u001b[0m 298ms/step - loss: 0.5633 - val_loss: 0.4102\n",
            "Epoch 47/100\n",
            "\u001b[1m1/1\u001b[0m \u001b[32m━━━━━━━━━━━━━━━━━━━━\u001b[0m\u001b[37m\u001b[0m \u001b[1m0s\u001b[0m 244ms/step - loss: 0.4899 - val_loss: 0.4065\n",
            "Epoch 48/100\n",
            "\u001b[1m1/1\u001b[0m \u001b[32m━━━━━━━━━━━━━━━━━━━━\u001b[0m\u001b[37m\u001b[0m \u001b[1m0s\u001b[0m 125ms/step - loss: 0.4565 - val_loss: 0.4032\n",
            "Epoch 49/100\n",
            "\u001b[1m1/1\u001b[0m \u001b[32m━━━━━━━━━━━━━━━━━━━━\u001b[0m\u001b[37m\u001b[0m \u001b[1m0s\u001b[0m 147ms/step - loss: 0.4354 - val_loss: 0.3993\n",
            "Epoch 50/100\n",
            "\u001b[1m1/1\u001b[0m \u001b[32m━━━━━━━━━━━━━━━━━━━━\u001b[0m\u001b[37m\u001b[0m \u001b[1m0s\u001b[0m 133ms/step - loss: 0.5258 - val_loss: 0.3946\n",
            "Epoch 51/100\n",
            "\u001b[1m1/1\u001b[0m \u001b[32m━━━━━━━━━━━━━━━━━━━━\u001b[0m\u001b[37m\u001b[0m \u001b[1m0s\u001b[0m 140ms/step - loss: 0.4500 - val_loss: 0.3893\n",
            "Epoch 52/100\n",
            "\u001b[1m1/1\u001b[0m \u001b[32m━━━━━━━━━━━━━━━━━━━━\u001b[0m\u001b[37m\u001b[0m \u001b[1m0s\u001b[0m 131ms/step - loss: 0.4097 - val_loss: 0.3840\n",
            "Epoch 53/100\n",
            "\u001b[1m1/1\u001b[0m \u001b[32m━━━━━━━━━━━━━━━━━━━━\u001b[0m\u001b[37m\u001b[0m \u001b[1m0s\u001b[0m 142ms/step - loss: 0.4152 - val_loss: 0.3793\n",
            "Epoch 54/100\n",
            "\u001b[1m1/1\u001b[0m \u001b[32m━━━━━━━━━━━━━━━━━━━━\u001b[0m\u001b[37m\u001b[0m \u001b[1m0s\u001b[0m 122ms/step - loss: 0.3954 - val_loss: 0.3756\n",
            "Epoch 55/100\n",
            "\u001b[1m1/1\u001b[0m \u001b[32m━━━━━━━━━━━━━━━━━━━━\u001b[0m\u001b[37m\u001b[0m \u001b[1m0s\u001b[0m 127ms/step - loss: 0.4010 - val_loss: 0.3800\n",
            "Epoch 56/100\n",
            "\u001b[1m1/1\u001b[0m \u001b[32m━━━━━━━━━━━━━━━━━━━━\u001b[0m\u001b[37m\u001b[0m \u001b[1m0s\u001b[0m 144ms/step - loss: 0.4696 - val_loss: 0.3720\n",
            "Epoch 57/100\n",
            "\u001b[1m1/1\u001b[0m \u001b[32m━━━━━━━━━━━━━━━━━━━━\u001b[0m\u001b[37m\u001b[0m \u001b[1m0s\u001b[0m 281ms/step - loss: 0.4299 - val_loss: 0.3635\n",
            "Epoch 58/100\n",
            "\u001b[1m1/1\u001b[0m \u001b[32m━━━━━━━━━━━━━━━━━━━━\u001b[0m\u001b[37m\u001b[0m \u001b[1m0s\u001b[0m 154ms/step - loss: 0.4385 - val_loss: 0.3613\n",
            "Epoch 59/100\n",
            "\u001b[1m1/1\u001b[0m \u001b[32m━━━━━━━━━━━━━━━━━━━━\u001b[0m\u001b[37m\u001b[0m \u001b[1m0s\u001b[0m 125ms/step - loss: 0.4092 - val_loss: 0.3596\n",
            "Epoch 60/100\n",
            "\u001b[1m1/1\u001b[0m \u001b[32m━━━━━━━━━━━━━━━━━━━━\u001b[0m\u001b[37m\u001b[0m \u001b[1m0s\u001b[0m 143ms/step - loss: 0.4252 - val_loss: 0.3578\n",
            "Epoch 61/100\n",
            "\u001b[1m1/1\u001b[0m \u001b[32m━━━━━━━━━━━━━━━━━━━━\u001b[0m\u001b[37m\u001b[0m \u001b[1m0s\u001b[0m 134ms/step - loss: 0.3731 - val_loss: 0.3550\n",
            "Epoch 62/100\n",
            "\u001b[1m1/1\u001b[0m \u001b[32m━━━━━━━━━━━━━━━━━━━━\u001b[0m\u001b[37m\u001b[0m \u001b[1m0s\u001b[0m 135ms/step - loss: 0.3902 - val_loss: 0.3529\n",
            "Epoch 63/100\n",
            "\u001b[1m1/1\u001b[0m \u001b[32m━━━━━━━━━━━━━━━━━━━━\u001b[0m\u001b[37m\u001b[0m \u001b[1m0s\u001b[0m 123ms/step - loss: 0.3666 - val_loss: 0.3515\n",
            "Epoch 64/100\n",
            "\u001b[1m1/1\u001b[0m \u001b[32m━━━━━━━━━━━━━━━━━━━━\u001b[0m\u001b[37m\u001b[0m \u001b[1m0s\u001b[0m 139ms/step - loss: 0.3712 - val_loss: 0.3503\n",
            "Epoch 65/100\n",
            "\u001b[1m1/1\u001b[0m \u001b[32m━━━━━━━━━━━━━━━━━━━━\u001b[0m\u001b[37m\u001b[0m \u001b[1m0s\u001b[0m 131ms/step - loss: 0.3714 - val_loss: 0.3473\n",
            "Epoch 66/100\n",
            "\u001b[1m1/1\u001b[0m \u001b[32m━━━━━━━━━━━━━━━━━━━━\u001b[0m\u001b[37m\u001b[0m \u001b[1m0s\u001b[0m 121ms/step - loss: 0.3881 - val_loss: 0.3419\n",
            "Epoch 67/100\n",
            "\u001b[1m1/1\u001b[0m \u001b[32m━━━━━━━━━━━━━━━━━━━━\u001b[0m\u001b[37m\u001b[0m \u001b[1m0s\u001b[0m 124ms/step - loss: 0.3640 - val_loss: 0.3371\n",
            "Epoch 68/100\n",
            "\u001b[1m1/1\u001b[0m \u001b[32m━━━━━━━━━━━━━━━━━━━━\u001b[0m\u001b[37m\u001b[0m \u001b[1m0s\u001b[0m 127ms/step - loss: 0.3511 - val_loss: 0.3303\n",
            "Epoch 69/100\n",
            "\u001b[1m1/1\u001b[0m \u001b[32m━━━━━━━━━━━━━━━━━━━━\u001b[0m\u001b[37m\u001b[0m \u001b[1m0s\u001b[0m 128ms/step - loss: 0.3669 - val_loss: 0.3231\n",
            "Epoch 70/100\n",
            "\u001b[1m1/1\u001b[0m \u001b[32m━━━━━━━━━━━━━━━━━━━━\u001b[0m\u001b[37m\u001b[0m \u001b[1m0s\u001b[0m 160ms/step - loss: 0.3945 - val_loss: 0.3181\n",
            "Epoch 71/100\n",
            "\u001b[1m1/1\u001b[0m \u001b[32m━━━━━━━━━━━━━━━━━━━━\u001b[0m\u001b[37m\u001b[0m \u001b[1m0s\u001b[0m 279ms/step - loss: 0.3395 - val_loss: 0.3141\n",
            "Epoch 72/100\n",
            "\u001b[1m1/1\u001b[0m \u001b[32m━━━━━━━━━━━━━━━━━━━━\u001b[0m\u001b[37m\u001b[0m \u001b[1m0s\u001b[0m 142ms/step - loss: 0.3353 - val_loss: 0.3106\n",
            "Epoch 73/100\n",
            "\u001b[1m1/1\u001b[0m \u001b[32m━━━━━━━━━━━━━━━━━━━━\u001b[0m\u001b[37m\u001b[0m \u001b[1m0s\u001b[0m 129ms/step - loss: 0.3328 - val_loss: 0.3069\n",
            "Epoch 74/100\n",
            "\u001b[1m1/1\u001b[0m \u001b[32m━━━━━━━━━━━━━━━━━━━━\u001b[0m\u001b[37m\u001b[0m \u001b[1m0s\u001b[0m 122ms/step - loss: 0.4504 - val_loss: 0.3054\n",
            "Epoch 75/100\n",
            "\u001b[1m1/1\u001b[0m \u001b[32m━━━━━━━━━━━━━━━━━━━━\u001b[0m\u001b[37m\u001b[0m \u001b[1m0s\u001b[0m 141ms/step - loss: 0.4322 - val_loss: 0.3023\n",
            "Epoch 76/100\n",
            "\u001b[1m1/1\u001b[0m \u001b[32m━━━━━━━━━━━━━━━━━━━━\u001b[0m\u001b[37m\u001b[0m \u001b[1m0s\u001b[0m 154ms/step - loss: 0.3210 - val_loss: 0.3011\n",
            "Epoch 77/100\n",
            "\u001b[1m1/1\u001b[0m \u001b[32m━━━━━━━━━━━━━━━━━━━━\u001b[0m\u001b[37m\u001b[0m \u001b[1m0s\u001b[0m 294ms/step - loss: 0.3165 - val_loss: 0.2985\n",
            "Epoch 78/100\n",
            "\u001b[1m1/1\u001b[0m \u001b[32m━━━━━━━━━━━━━━━━━━━━\u001b[0m\u001b[37m\u001b[0m \u001b[1m0s\u001b[0m 132ms/step - loss: 0.3190 - val_loss: 0.2954\n",
            "Epoch 79/100\n",
            "\u001b[1m1/1\u001b[0m \u001b[32m━━━━━━━━━━━━━━━━━━━━\u001b[0m\u001b[37m\u001b[0m \u001b[1m0s\u001b[0m 134ms/step - loss: 0.3216 - val_loss: 0.2923\n",
            "Epoch 80/100\n",
            "\u001b[1m1/1\u001b[0m \u001b[32m━━━━━━━━━━━━━━━━━━━━\u001b[0m\u001b[37m\u001b[0m \u001b[1m0s\u001b[0m 126ms/step - loss: 0.3086 - val_loss: 0.2899\n",
            "Epoch 81/100\n",
            "\u001b[1m1/1\u001b[0m \u001b[32m━━━━━━━━━━━━━━━━━━━━\u001b[0m\u001b[37m\u001b[0m \u001b[1m0s\u001b[0m 129ms/step - loss: 0.3409 - val_loss: 0.2887\n",
            "Epoch 82/100\n",
            "\u001b[1m1/1\u001b[0m \u001b[32m━━━━━━━━━━━━━━━━━━━━\u001b[0m\u001b[37m\u001b[0m \u001b[1m0s\u001b[0m 134ms/step - loss: 0.3327 - val_loss: 0.2890\n",
            "Epoch 83/100\n",
            "\u001b[1m1/1\u001b[0m \u001b[32m━━━━━━━━━━━━━━━━━━━━\u001b[0m\u001b[37m\u001b[0m \u001b[1m0s\u001b[0m 139ms/step - loss: 0.3124 - val_loss: 0.2861\n",
            "Epoch 84/100\n",
            "\u001b[1m1/1\u001b[0m \u001b[32m━━━━━━━━━━━━━━━━━━━━\u001b[0m\u001b[37m\u001b[0m \u001b[1m0s\u001b[0m 124ms/step - loss: 0.3185 - val_loss: 0.2839\n",
            "Epoch 85/100\n",
            "\u001b[1m1/1\u001b[0m \u001b[32m━━━━━━━━━━━━━━━━━━━━\u001b[0m\u001b[37m\u001b[0m \u001b[1m0s\u001b[0m 145ms/step - loss: 0.3237 - val_loss: 0.2815\n",
            "Epoch 86/100\n",
            "\u001b[1m1/1\u001b[0m \u001b[32m━━━━━━━━━━━━━━━━━━━━\u001b[0m\u001b[37m\u001b[0m \u001b[1m0s\u001b[0m 125ms/step - loss: 0.2904 - val_loss: 0.2779\n",
            "Epoch 87/100\n",
            "\u001b[1m1/1\u001b[0m \u001b[32m━━━━━━━━━━━━━━━━━━━━\u001b[0m\u001b[37m\u001b[0m \u001b[1m0s\u001b[0m 129ms/step - loss: 0.3229 - val_loss: 0.2770\n",
            "Epoch 88/100\n",
            "\u001b[1m1/1\u001b[0m \u001b[32m━━━━━━━━━━━━━━━━━━━━\u001b[0m\u001b[37m\u001b[0m \u001b[1m0s\u001b[0m 130ms/step - loss: 0.3276 - val_loss: 0.2772\n",
            "Epoch 89/100\n",
            "\u001b[1m1/1\u001b[0m \u001b[32m━━━━━━━━━━━━━━━━━━━━\u001b[0m\u001b[37m\u001b[0m \u001b[1m0s\u001b[0m 140ms/step - loss: 0.2844 - val_loss: 0.2750\n",
            "Epoch 90/100\n",
            "\u001b[1m1/1\u001b[0m \u001b[32m━━━━━━━━━━━━━━━━━━━━\u001b[0m\u001b[37m\u001b[0m \u001b[1m0s\u001b[0m 145ms/step - loss: 0.3002 - val_loss: 0.2738\n",
            "Epoch 91/100\n",
            "\u001b[1m1/1\u001b[0m \u001b[32m━━━━━━━━━━━━━━━━━━━━\u001b[0m\u001b[37m\u001b[0m \u001b[1m0s\u001b[0m 284ms/step - loss: 0.2966 - val_loss: 0.2747\n",
            "Epoch 92/100\n",
            "\u001b[1m1/1\u001b[0m \u001b[32m━━━━━━━━━━━━━━━━━━━━\u001b[0m\u001b[37m\u001b[0m \u001b[1m0s\u001b[0m 121ms/step - loss: 0.2664 - val_loss: 0.2739\n",
            "Epoch 93/100\n",
            "\u001b[1m1/1\u001b[0m \u001b[32m━━━━━━━━━━━━━━━━━━━━\u001b[0m\u001b[37m\u001b[0m \u001b[1m0s\u001b[0m 142ms/step - loss: 0.3020 - val_loss: 0.2693\n",
            "Epoch 94/100\n",
            "\u001b[1m1/1\u001b[0m \u001b[32m━━━━━━━━━━━━━━━━━━━━\u001b[0m\u001b[37m\u001b[0m \u001b[1m0s\u001b[0m 153ms/step - loss: 0.2907 - val_loss: 0.2654\n",
            "Epoch 95/100\n",
            "\u001b[1m1/1\u001b[0m \u001b[32m━━━━━━━━━━━━━━━━━━━━\u001b[0m\u001b[37m\u001b[0m \u001b[1m0s\u001b[0m 129ms/step - loss: 0.3014 - val_loss: 0.2624\n",
            "Epoch 96/100\n",
            "\u001b[1m1/1\u001b[0m \u001b[32m━━━━━━━━━━━━━━━━━━━━\u001b[0m\u001b[37m\u001b[0m \u001b[1m0s\u001b[0m 139ms/step - loss: 0.2911 - val_loss: 0.2612\n",
            "Epoch 97/100\n",
            "\u001b[1m1/1\u001b[0m \u001b[32m━━━━━━━━━━━━━━━━━━━━\u001b[0m\u001b[37m\u001b[0m \u001b[1m0s\u001b[0m 124ms/step - loss: 0.2655 - val_loss: 0.2576\n",
            "Epoch 98/100\n",
            "\u001b[1m1/1\u001b[0m \u001b[32m━━━━━━━━━━━━━━━━━━━━\u001b[0m\u001b[37m\u001b[0m \u001b[1m0s\u001b[0m 145ms/step - loss: 0.2646 - val_loss: 0.2509\n",
            "Epoch 99/100\n",
            "\u001b[1m1/1\u001b[0m \u001b[32m━━━━━━━━━━━━━━━━━━━━\u001b[0m\u001b[37m\u001b[0m \u001b[1m0s\u001b[0m 127ms/step - loss: 0.3079 - val_loss: 0.2426\n",
            "Epoch 100/100\n",
            "\u001b[1m1/1\u001b[0m \u001b[32m━━━━━━━━━━━━━━━━━━━━\u001b[0m\u001b[37m\u001b[0m \u001b[1m0s\u001b[0m 125ms/step - loss: 0.3187 - val_loss: 0.2340\n",
            "\u001b[1m1/1\u001b[0m \u001b[32m━━━━━━━━━━━━━━━━━━━━\u001b[0m\u001b[37m\u001b[0m \u001b[1m0s\u001b[0m 33ms/step - loss: 0.3378\n",
            "Mean Squared Error: 0.3377598524093628\n"
          ]
        }
      ]
    },
    {
      "cell_type": "code",
      "source": [
        "def build_dropout_model(input_shape):\n",
        "    model = Sequential([\n",
        "        LSTM(units=64, input_shape=input_shape, return_sequences=True),\n",
        "        Dropout(0.2),\n",
        "        LSTM(units=64, return_sequences=True),\n",
        "        Dropout(0.2),\n",
        "        Dense(units=64, activation='relu'),\n",
        "        Dropout(0.2),\n",
        "        TimeDistributed(Dense(units=1))\n",
        "    ])\n",
        "    return model\n",
        "\n",
        "model = build_dropout_model(input_shape=(X_train.shape[1], 1))\n",
        "\n",
        "model.compile(optimizer='adam', loss='mean_squared_error')\n",
        "\n",
        "early_stopping = EarlyStopping(monitor='val_loss', patience=10, restore_best_weights=True)\n",
        "\n",
        "history = model.fit(X_train, y_train, batch_size=64, epochs=100, validation_split=0.2, callbacks=[early_stopping])\n",
        "\n",
        "mse = model.evaluate(X_test, y_test)\n",
        "print(\"Mean Squared Error:\", mse)\n"
      ],
      "metadata": {
        "colab": {
          "base_uri": "https://localhost:8080/"
        },
        "id": "AQrqBaL0Yt3D",
        "outputId": "a7388a7a-6c2c-4ed4-eaaf-c81dad14f7c8"
      },
      "execution_count": null,
      "outputs": [
        {
          "output_type": "stream",
          "name": "stdout",
          "text": [
            "Epoch 1/100\n",
            "\u001b[1m1/1\u001b[0m \u001b[32m━━━━━━━━━━━━━━━━━━━━\u001b[0m\u001b[37m\u001b[0m \u001b[1m9s\u001b[0m 9s/step - loss: 0.1904 - val_loss: 0.0822\n",
            "Epoch 2/100\n",
            "\u001b[1m1/1\u001b[0m \u001b[32m━━━━━━━━━━━━━━━━━━━━\u001b[0m\u001b[37m\u001b[0m \u001b[1m0s\u001b[0m 127ms/step - loss: 0.1028 - val_loss: 0.0099\n",
            "Epoch 3/100\n",
            "\u001b[1m1/1\u001b[0m \u001b[32m━━━━━━━━━━━━━━━━━━━━\u001b[0m\u001b[37m\u001b[0m \u001b[1m0s\u001b[0m 124ms/step - loss: 0.0661 - val_loss: 0.0361\n",
            "Epoch 4/100\n",
            "\u001b[1m1/1\u001b[0m \u001b[32m━━━━━━━━━━━━━━━━━━━━\u001b[0m\u001b[37m\u001b[0m \u001b[1m0s\u001b[0m 129ms/step - loss: 0.0736 - val_loss: 0.0663\n",
            "Epoch 5/100\n",
            "\u001b[1m1/1\u001b[0m \u001b[32m━━━━━━━━━━━━━━━━━━━━\u001b[0m\u001b[37m\u001b[0m \u001b[1m0s\u001b[0m 133ms/step - loss: 0.0891 - val_loss: 0.0553\n",
            "Epoch 6/100\n",
            "\u001b[1m1/1\u001b[0m \u001b[32m━━━━━━━━━━━━━━━━━━━━\u001b[0m\u001b[37m\u001b[0m \u001b[1m0s\u001b[0m 120ms/step - loss: 0.0681 - val_loss: 0.0322\n",
            "Epoch 7/100\n",
            "\u001b[1m1/1\u001b[0m \u001b[32m━━━━━━━━━━━━━━━━━━━━\u001b[0m\u001b[37m\u001b[0m \u001b[1m0s\u001b[0m 147ms/step - loss: 0.0500 - val_loss: 0.0125\n",
            "Epoch 8/100\n",
            "\u001b[1m1/1\u001b[0m \u001b[32m━━━━━━━━━━━━━━━━━━━━\u001b[0m\u001b[37m\u001b[0m \u001b[1m0s\u001b[0m 123ms/step - loss: 0.0530 - val_loss: 0.0065\n",
            "Epoch 9/100\n",
            "\u001b[1m1/1\u001b[0m \u001b[32m━━━━━━━━━━━━━━━━━━━━\u001b[0m\u001b[37m\u001b[0m \u001b[1m0s\u001b[0m 145ms/step - loss: 0.0424 - val_loss: 0.0089\n",
            "Epoch 10/100\n",
            "\u001b[1m1/1\u001b[0m \u001b[32m━━━━━━━━━━━━━━━━━━━━\u001b[0m\u001b[37m\u001b[0m \u001b[1m0s\u001b[0m 141ms/step - loss: 0.0459 - val_loss: 0.0133\n",
            "Epoch 11/100\n",
            "\u001b[1m1/1\u001b[0m \u001b[32m━━━━━━━━━━━━━━━━━━━━\u001b[0m\u001b[37m\u001b[0m \u001b[1m0s\u001b[0m 138ms/step - loss: 0.0422 - val_loss: 0.0160\n",
            "Epoch 12/100\n",
            "\u001b[1m1/1\u001b[0m \u001b[32m━━━━━━━━━━━━━━━━━━━━\u001b[0m\u001b[37m\u001b[0m \u001b[1m0s\u001b[0m 144ms/step - loss: 0.0478 - val_loss: 0.0160\n",
            "Epoch 13/100\n",
            "\u001b[1m1/1\u001b[0m \u001b[32m━━━━━━━━━━━━━━━━━━━━\u001b[0m\u001b[37m\u001b[0m \u001b[1m0s\u001b[0m 131ms/step - loss: 0.0444 - val_loss: 0.0132\n",
            "Epoch 14/100\n",
            "\u001b[1m1/1\u001b[0m \u001b[32m━━━━━━━━━━━━━━━━━━━━\u001b[0m\u001b[37m\u001b[0m \u001b[1m0s\u001b[0m 135ms/step - loss: 0.0425 - val_loss: 0.0092\n",
            "Epoch 15/100\n",
            "\u001b[1m1/1\u001b[0m \u001b[32m━━━━━━━━━━━━━━━━━━━━\u001b[0m\u001b[37m\u001b[0m \u001b[1m0s\u001b[0m 126ms/step - loss: 0.0407 - val_loss: 0.0058\n",
            "Epoch 16/100\n",
            "\u001b[1m1/1\u001b[0m \u001b[32m━━━━━━━━━━━━━━━━━━━━\u001b[0m\u001b[37m\u001b[0m \u001b[1m0s\u001b[0m 146ms/step - loss: 0.0372 - val_loss: 0.0049\n",
            "Epoch 17/100\n",
            "\u001b[1m1/1\u001b[0m \u001b[32m━━━━━━━━━━━━━━━━━━━━\u001b[0m\u001b[37m\u001b[0m \u001b[1m0s\u001b[0m 120ms/step - loss: 0.0376 - val_loss: 0.0065\n",
            "Epoch 18/100\n",
            "\u001b[1m1/1\u001b[0m \u001b[32m━━━━━━━━━━━━━━━━━━━━\u001b[0m\u001b[37m\u001b[0m \u001b[1m0s\u001b[0m 146ms/step - loss: 0.0420 - val_loss: 0.0099\n",
            "Epoch 19/100\n",
            "\u001b[1m1/1\u001b[0m \u001b[32m━━━━━━━━━━━━━━━━━━━━\u001b[0m\u001b[37m\u001b[0m \u001b[1m0s\u001b[0m 139ms/step - loss: 0.0342 - val_loss: 0.0138\n",
            "Epoch 20/100\n",
            "\u001b[1m1/1\u001b[0m \u001b[32m━━━━━━━━━━━━━━━━━━━━\u001b[0m\u001b[37m\u001b[0m \u001b[1m0s\u001b[0m 117ms/step - loss: 0.0363 - val_loss: 0.0157\n",
            "Epoch 21/100\n",
            "\u001b[1m1/1\u001b[0m \u001b[32m━━━━━━━━━━━━━━━━━━━━\u001b[0m\u001b[37m\u001b[0m \u001b[1m0s\u001b[0m 120ms/step - loss: 0.0374 - val_loss: 0.0158\n",
            "Epoch 22/100\n",
            "\u001b[1m1/1\u001b[0m \u001b[32m━━━━━━━━━━━━━━━━━━━━\u001b[0m\u001b[37m\u001b[0m \u001b[1m0s\u001b[0m 142ms/step - loss: 0.0394 - val_loss: 0.0140\n",
            "Epoch 23/100\n",
            "\u001b[1m1/1\u001b[0m \u001b[32m━━━━━━━━━━━━━━━━━━━━\u001b[0m\u001b[37m\u001b[0m \u001b[1m0s\u001b[0m 149ms/step - loss: 0.0303 - val_loss: 0.0117\n",
            "Epoch 24/100\n",
            "\u001b[1m1/1\u001b[0m \u001b[32m━━━━━━━━━━━━━━━━━━━━\u001b[0m\u001b[37m\u001b[0m \u001b[1m0s\u001b[0m 130ms/step - loss: 0.0364 - val_loss: 0.0088\n",
            "Epoch 25/100\n",
            "\u001b[1m1/1\u001b[0m \u001b[32m━━━━━━━━━━━━━━━━━━━━\u001b[0m\u001b[37m\u001b[0m \u001b[1m0s\u001b[0m 142ms/step - loss: 0.0383 - val_loss: 0.0064\n",
            "Epoch 26/100\n",
            "\u001b[1m1/1\u001b[0m \u001b[32m━━━━━━━━━━━━━━━━━━━━\u001b[0m\u001b[37m\u001b[0m \u001b[1m0s\u001b[0m 122ms/step - loss: 0.0330 - val_loss: 0.0046\n",
            "Epoch 27/100\n",
            "\u001b[1m1/1\u001b[0m \u001b[32m━━━━━━━━━━━━━━━━━━━━\u001b[0m\u001b[37m\u001b[0m \u001b[1m0s\u001b[0m 120ms/step - loss: 0.0323 - val_loss: 0.0040\n",
            "Epoch 28/100\n",
            "\u001b[1m1/1\u001b[0m \u001b[32m━━━━━━━━━━━━━━━━━━━━\u001b[0m\u001b[37m\u001b[0m \u001b[1m0s\u001b[0m 124ms/step - loss: 0.0330 - val_loss: 0.0038\n",
            "Epoch 29/100\n",
            "\u001b[1m1/1\u001b[0m \u001b[32m━━━━━━━━━━━━━━━━━━━━\u001b[0m\u001b[37m\u001b[0m \u001b[1m0s\u001b[0m 132ms/step - loss: 0.0275 - val_loss: 0.0041\n",
            "Epoch 30/100\n",
            "\u001b[1m1/1\u001b[0m \u001b[32m━━━━━━━━━━━━━━━━━━━━\u001b[0m\u001b[37m\u001b[0m \u001b[1m0s\u001b[0m 118ms/step - loss: 0.0279 - val_loss: 0.0062\n",
            "Epoch 31/100\n",
            "\u001b[1m1/1\u001b[0m \u001b[32m━━━━━━━━━━━━━━━━━━━━\u001b[0m\u001b[37m\u001b[0m \u001b[1m0s\u001b[0m 152ms/step - loss: 0.0317 - val_loss: 0.0043\n",
            "Epoch 32/100\n",
            "\u001b[1m1/1\u001b[0m \u001b[32m━━━━━━━━━━━━━━━━━━━━\u001b[0m\u001b[37m\u001b[0m \u001b[1m0s\u001b[0m 146ms/step - loss: 0.0308 - val_loss: 0.0037\n",
            "Epoch 33/100\n",
            "\u001b[1m1/1\u001b[0m \u001b[32m━━━━━━━━━━━━━━━━━━━━\u001b[0m\u001b[37m\u001b[0m \u001b[1m0s\u001b[0m 160ms/step - loss: 0.0273 - val_loss: 0.0045\n",
            "Epoch 34/100\n",
            "\u001b[1m1/1\u001b[0m \u001b[32m━━━━━━━━━━━━━━━━━━━━\u001b[0m\u001b[37m\u001b[0m \u001b[1m0s\u001b[0m 290ms/step - loss: 0.0249 - val_loss: 0.0034\n",
            "Epoch 35/100\n",
            "\u001b[1m1/1\u001b[0m \u001b[32m━━━━━━━━━━━━━━━━━━━━\u001b[0m\u001b[37m\u001b[0m \u001b[1m0s\u001b[0m 264ms/step - loss: 0.0275 - val_loss: 0.0094\n",
            "Epoch 36/100\n",
            "\u001b[1m1/1\u001b[0m \u001b[32m━━━━━━━━━━━━━━━━━━━━\u001b[0m\u001b[37m\u001b[0m \u001b[1m0s\u001b[0m 250ms/step - loss: 0.0244 - val_loss: 0.0145\n",
            "Epoch 37/100\n",
            "\u001b[1m1/1\u001b[0m \u001b[32m━━━━━━━━━━━━━━━━━━━━\u001b[0m\u001b[37m\u001b[0m \u001b[1m0s\u001b[0m 314ms/step - loss: 0.0255 - val_loss: 0.0168\n",
            "Epoch 38/100\n",
            "\u001b[1m1/1\u001b[0m \u001b[32m━━━━━━━━━━━━━━━━━━━━\u001b[0m\u001b[37m\u001b[0m \u001b[1m0s\u001b[0m 233ms/step - loss: 0.0224 - val_loss: 0.0065\n",
            "Epoch 39/100\n",
            "\u001b[1m1/1\u001b[0m \u001b[32m━━━━━━━━━━━━━━━━━━━━\u001b[0m\u001b[37m\u001b[0m \u001b[1m0s\u001b[0m 302ms/step - loss: 0.0254 - val_loss: 0.0053\n",
            "Epoch 40/100\n",
            "\u001b[1m1/1\u001b[0m \u001b[32m━━━━━━━━━━━━━━━━━━━━\u001b[0m\u001b[37m\u001b[0m \u001b[1m0s\u001b[0m 296ms/step - loss: 0.0263 - val_loss: 0.0155\n",
            "Epoch 41/100\n",
            "\u001b[1m1/1\u001b[0m \u001b[32m━━━━━━━━━━━━━━━━━━━━\u001b[0m\u001b[37m\u001b[0m \u001b[1m0s\u001b[0m 304ms/step - loss: 0.0304 - val_loss: 0.0118\n",
            "Epoch 42/100\n",
            "\u001b[1m1/1\u001b[0m \u001b[32m━━━━━━━━━━━━━━━━━━━━\u001b[0m\u001b[37m\u001b[0m \u001b[1m0s\u001b[0m 250ms/step - loss: 0.0218 - val_loss: 0.0032\n",
            "Epoch 43/100\n",
            "\u001b[1m1/1\u001b[0m \u001b[32m━━━━━━━━━━━━━━━━━━━━\u001b[0m\u001b[37m\u001b[0m \u001b[1m0s\u001b[0m 379ms/step - loss: 0.0241 - val_loss: 0.0033\n",
            "Epoch 44/100\n",
            "\u001b[1m1/1\u001b[0m \u001b[32m━━━━━━━━━━━━━━━━━━━━\u001b[0m\u001b[37m\u001b[0m \u001b[1m0s\u001b[0m 309ms/step - loss: 0.0260 - val_loss: 0.0110\n",
            "Epoch 45/100\n",
            "\u001b[1m1/1\u001b[0m \u001b[32m━━━━━━━━━━━━━━━━━━━━\u001b[0m\u001b[37m\u001b[0m \u001b[1m0s\u001b[0m 237ms/step - loss: 0.0221 - val_loss: 0.0102\n",
            "Epoch 46/100\n",
            "\u001b[1m1/1\u001b[0m \u001b[32m━━━━━━━━━━━━━━━━━━━━\u001b[0m\u001b[37m\u001b[0m \u001b[1m0s\u001b[0m 346ms/step - loss: 0.0233 - val_loss: 0.0051\n",
            "Epoch 47/100\n",
            "\u001b[1m1/1\u001b[0m \u001b[32m━━━━━━━━━━━━━━━━━━━━\u001b[0m\u001b[37m\u001b[0m \u001b[1m0s\u001b[0m 252ms/step - loss: 0.0253 - val_loss: 0.0047\n",
            "Epoch 48/100\n",
            "\u001b[1m1/1\u001b[0m \u001b[32m━━━━━━━━━━━━━━━━━━━━\u001b[0m\u001b[37m\u001b[0m \u001b[1m0s\u001b[0m 296ms/step - loss: 0.0235 - val_loss: 0.0042\n",
            "Epoch 49/100\n",
            "\u001b[1m1/1\u001b[0m \u001b[32m━━━━━━━━━━━━━━━━━━━━\u001b[0m\u001b[37m\u001b[0m \u001b[1m0s\u001b[0m 305ms/step - loss: 0.0202 - val_loss: 0.0070\n",
            "Epoch 50/100\n",
            "\u001b[1m1/1\u001b[0m \u001b[32m━━━━━━━━━━━━━━━━━━━━\u001b[0m\u001b[37m\u001b[0m \u001b[1m0s\u001b[0m 351ms/step - loss: 0.0183 - val_loss: 0.0087\n",
            "Epoch 51/100\n",
            "\u001b[1m1/1\u001b[0m \u001b[32m━━━━━━━━━━━━━━━━━━━━\u001b[0m\u001b[37m\u001b[0m \u001b[1m0s\u001b[0m 342ms/step - loss: 0.0246 - val_loss: 0.0064\n",
            "Epoch 52/100\n",
            "\u001b[1m1/1\u001b[0m \u001b[32m━━━━━━━━━━━━━━━━━━━━\u001b[0m\u001b[37m\u001b[0m \u001b[1m0s\u001b[0m 330ms/step - loss: 0.0169 - val_loss: 0.0047\n",
            "\u001b[1m1/1\u001b[0m \u001b[32m━━━━━━━━━━━━━━━━━━━━\u001b[0m\u001b[37m\u001b[0m \u001b[1m0s\u001b[0m 92ms/step - loss: 0.1364\n",
            "Mean Squared Error: 0.1364329606294632\n"
          ]
        }
      ]
    },
    {
      "cell_type": "code",
      "source": [
        "import numpy as np\n",
        "import tensorflow as tf\n",
        "from sklearn.model_selection import GridSearchCV\n",
        "from tensorflow.keras.models import Sequential\n",
        "from tensorflow.keras.layers import Dense, Dropout\n",
        "from scikeras.wrappers import KerasRegressor\n",
        "\n",
        "def create_model(activation='relu', dropout_rate=0.0, kernel_initializer='uniform', optimizer='adam'):\n",
        "    model = Sequential()\n",
        "    model.add(Dense(12, input_shape=(8,), kernel_initializer=kernel_initializer, activation=activation))\n",
        "    model.add(Dropout(dropout_rate))\n",
        "    model.add(Dense(1, kernel_initializer=kernel_initializer))\n",
        "    model.compile(loss='mean_squared_error', optimizer=optimizer)\n",
        "    return model\n",
        "\n",
        "\n",
        "\n",
        "model = KerasRegressor(build_fn=create_model, verbose=0)\n",
        "\n",
        "activation = ['relu', 'tanh', 'sigmoid']\n",
        "dropout_rate = [0.0, 0.1, 0.2, 0.3, 0.4, 0.5]\n",
        "kernel_initializer = ['uniform', 'lecun_uniform', 'normal', 'zero', 'glorot_normal', 'glorot_uniform', 'he_normal', 'he_uniform']\n",
        "optimizer = ['SGD', 'RMSprop', 'Adagrad', 'Adadelta', 'Adam', 'Adamax', 'Nadam']\n",
        "batch_size = [10, 20, 40, 60, 80, 100]\n",
        "epochs = [50, 100, 150]\n",
        "\n",
        "param_grid = dict(activation=activation, dropout_rate=dropout_rate, kernel_initializer=kernel_initializer, optimizer=optimizer, batch_size=batch_size, epochs=epochs)\n",
        "grid = GridSearchCV(estimator=model, param_grid=param_grid, scoring='neg_mean_squared_error', n_jobs=-1, cv=3)\n",
        "grid_result = grid.fit(X_train, y_train)\n",
        "\n",
        "print(\"Best: %f using %s\" % (grid_result.best_score_, grid_result.best_params_))\n",
        "means = grid_result.cv_results_['mean_test_score']\n",
        "stds = grid_result.cv_results_['std_test_score']\n",
        "params = grid_result.cv_results_['params']\n",
        "for mean, stdev, param in zip(means, stds, params):\n",
        "    print(\"%f (%f) with: %r\" % (mean, stdev, param))\n"
      ],
      "metadata": {
        "id": "IOv2pj2sZpt6"
      },
      "execution_count": null,
      "outputs": []
    },
    {
      "cell_type": "markdown",
      "source": [
        "##Last"
      ],
      "metadata": {
        "id": "VVa-eeh8t-Xy"
      }
    },
    {
      "cell_type": "code",
      "source": [],
      "metadata": {
        "id": "kAVVpO89yPyf"
      },
      "execution_count": null,
      "outputs": []
    },
    {
      "cell_type": "code",
      "source": [],
      "metadata": {
        "colab": {
          "base_uri": "https://localhost:8080/"
        },
        "id": "6uvO5ifxGKkP",
        "outputId": "43473353-7053-49ea-be12-ad7d410017f2"
      },
      "execution_count": null,
      "outputs": [
        {
          "output_type": "stream",
          "name": "stdout",
          "text": [
            "[<sha_learning.domain.sigfeatures.ChangePoint object at 0x7a3d55feaf80>, <sha_learning.domain.sigfeatures.ChangePoint object at 0x7a3d55feaf50>, <sha_learning.domain.sigfeatures.ChangePoint object at 0x7a3d55feb040>, <sha_learning.domain.sigfeatures.ChangePoint object at 0x7a3d55feae30>, <sha_learning.domain.sigfeatures.ChangePoint object at 0x7a3d55feadd0>, <sha_learning.domain.sigfeatures.ChangePoint object at 0x7a3d55fead70>, <sha_learning.domain.sigfeatures.ChangePoint object at 0x7a3d55fead10>, <sha_learning.domain.sigfeatures.ChangePoint object at 0x7a3d55feacb0>, <sha_learning.domain.sigfeatures.ChangePoint object at 0x7a3d55feac50>, <sha_learning.domain.sigfeatures.ChangePoint object at 0x7a3d55feabf0>, <sha_learning.domain.sigfeatures.ChangePoint object at 0x7a3d55feb070>, <sha_learning.domain.sigfeatures.ChangePoint object at 0x7a3d55feb0d0>]\n"
          ]
        }
      ]
    },
    {
      "cell_type": "code",
      "source": [],
      "metadata": {
        "id": "S7uoGYgvMu10"
      },
      "execution_count": null,
      "outputs": []
    }
  ]
}